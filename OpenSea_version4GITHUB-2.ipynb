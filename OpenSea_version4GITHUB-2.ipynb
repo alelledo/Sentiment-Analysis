{
  "cells": [
    {
      "cell_type": "markdown",
      "source": [
        "# **eWOM and NFTs - Data Scrapping and Sentiment Analysis**\n",
        "\n",
        "\n",
        "---\n",
        "\n",
        "\n",
        "# **1. Introduction:**\n",
        "\n",
        "A sentiment analysis is performed in a series of tweets related to different\n",
        "NFT assets, linking OpenSea and Twitter parameters with tweet valence. An\n",
        "ordered logistic regression is carried out to assess the impact of not only tweet sentiment, but different Twitter and OpenSea metrics on the value of NFTs."
      ],
      "metadata": {
        "id": "CiY1lEtfXqlk"
      }
    },
    {
      "cell_type": "markdown",
      "source": [
        "##Scraping OpenSea"
      ],
      "metadata": {
        "id": "AK70OunRfJKG"
      }
    },
    {
      "cell_type": "code",
      "execution_count": null,
      "metadata": {
        "id": "AUF8ryJSJG4i"
      },
      "outputs": [],
      "source": [
        "!pip install opensea\n",
        "import requests\n",
        "import pandas as pd\n",
        "import json\n",
        "import random\n",
        "import datetime\n",
        "import numpy as np"
      ]
    },
    {
      "cell_type": "code",
      "source": [
        "from google.colab import drive\n",
        "drive.mount('/content/drive')"
      ],
      "metadata": {
        "id": "obyQbVh4cEoy",
        "colab": {
          "base_uri": "https://localhost:8080/"
        },
        "outputId": "c5bdccc8-6db8-4cfe-fdf3-f49e93f8420c"
      },
      "execution_count": null,
      "outputs": [
        {
          "output_type": "stream",
          "name": "stdout",
          "text": [
            "Mounted at /content/drive\n"
          ]
        }
      ]
    },
    {
      "cell_type": "markdown",
      "metadata": {
        "id": "jF4KyC3F82cy"
      },
      "source": [
        "**Dataset:**\n",
        "\n",
        "The NFT price dataset uses data scraped from the OpenSea API. A timeframe of four months was set from January 2022 to April 2022 and only assets that were actually sold were considered."
      ]
    },
    {
      "cell_type": "code",
      "execution_count": null,
      "metadata": {
        "collapsed": true,
        "id": "EHVjHubR852A",
        "jupyter": {
          "outputs_hidden": true
        },
        "tags": []
      },
      "outputs": [],
      "source": [
        "asset_events = [] #creating a list?\n",
        "url = \"https://api.opensea.io/api/v1/events\"\n",
        "headers = {\"Accept\": \"application/json\",\n",
        "\"X-API-KEY\": \"xxxxxxxxxxxxxxxxxxxxxxxx\"}\n",
        "\n",
        "begindate = datetime.datetime.strptime('2022-01-01','%Y-%m-%d')\n",
        "enddate = datetime.datetime.strptime('2022-04-30','%Y-%m-%d')\n",
        "#it collects 50 assets from everyday between begindate and enddate\n",
        "while begindate<enddate:\n",
        "    print(begindate)\n",
        "    #rint = random.randint(1,364)\n",
        "    date1 = begindate\n",
        "    date2 = begindate + datetime.timedelta(days=1)\n",
        "    date1 = datetime.datetime.strftime(date1,'%Y-%m-%d')\n",
        "    date2 = datetime.datetime.strftime(date2,'%Y-%m-%d')\n",
        "    url = 'https://api.opensea.io/api/v1/events?occurred_before=' + date2 + 'T00%3A00%3A00&occurred_after=' + date1 + 'T00%3A00%3A00'\n",
        "    params = {'limit':'50','event_type':'successful'}\n",
        "\n",
        "    response = requests.get(url, headers=headers,params=params)\n",
        "    print(response)\n",
        "    x = response.json()\n",
        "    asset_events = asset_events + x['asset_events']\n",
        "    begindate = begindate + datetime.timedelta(days=1)"
      ]
    },
    {
      "cell_type": "code",
      "execution_count": null,
      "metadata": {
        "id": "f36koysMM3qs"
      },
      "outputs": [],
      "source": [
        "asset_events_df = pd.json_normalize(asset_events)"
      ]
    },
    {
      "cell_type": "code",
      "source": [
        "asset_events_df"
      ],
      "metadata": {
        "id": "ptcyBe_hr8fv"
      },
      "execution_count": null,
      "outputs": []
    },
    {
      "cell_type": "code",
      "source": [
        "asset_events_df.to_csv('/content/drive/MyDrive/MADSThesis_Alejandro/events_keys.csv',index=False)"
      ],
      "metadata": {
        "id": "JWmfkWkT6QaX"
      },
      "execution_count": null,
      "outputs": []
    },
    {
      "cell_type": "markdown",
      "source": [
        "**Data Cleaning**\n",
        "For ease of further analysis the name of the assets were cleaned, eliminating spaces and punctuation symbols. The price in the dataset is given in the cryptocurrency ethereum or wei. This price comes together with the exchange rate from ETH to USD at the time of the purchase, which is used to turn all ETH prices to USD prices for better analysis and interpretation."
      ],
      "metadata": {
        "id": "hSVp9dMxb0nd"
      }
    },
    {
      "cell_type": "code",
      "source": [
        "#cleaning name column fields to erase punctuation and digits so it works better with Twitter's snscrape\n",
        "asset_events_df['asset.name'] = asset_events_df['asset.name'].str.replace(r'[^\\w\\s]+', '')\n",
        "asset_events_df['asset.name'] = asset_events_df['asset.name'].str.replace('\\d+', '')\n",
        "asset_events_df['asset.name'] = asset_events_df['asset.name'].str.replace(' ', '')"
      ],
      "metadata": {
        "id": "LBQR34Y6U-mC"
      },
      "execution_count": null,
      "outputs": []
    },
    {
      "cell_type": "code",
      "source": [
        "asset_events_df.info(verbose = True)"
      ],
      "metadata": {
        "id": "ApBD8bB_3uGV"
      },
      "execution_count": null,
      "outputs": []
    },
    {
      "cell_type": "code",
      "source": [
        "#cleaning total price, transform from wei to eth and turn total price to float\n",
        "asset_events_df['total_price'] = asset_events_df['total_price'].astype(float, errors = 'raise')\n",
        "asset_events_df['total_price'] = asset_events_df['total_price']/10.**18"
      ],
      "metadata": {
        "id": "TKDTtYL93ayz"
      },
      "execution_count": null,
      "outputs": []
    },
    {
      "cell_type": "code",
      "source": [
        "asset_events_df['quantity'] = pd.to_numeric(asset_events_df['quantity'],errors = 'coerce')"
      ],
      "metadata": {
        "id": "2_IGQNQB-8rU"
      },
      "execution_count": null,
      "outputs": []
    },
    {
      "cell_type": "code",
      "source": [
        "asset_events_df['payment_token.usd_price'] = pd.to_numeric(asset_events_df['payment_token.usd_price'],errors = 'coerce')"
      ],
      "metadata": {
        "id": "SOgV5G8Gd65o"
      },
      "execution_count": null,
      "outputs": []
    },
    {
      "cell_type": "code",
      "source": [
        "#Calculating sales price in USD.\n",
        "asset_events_df['total_price_usd'] = asset_events_df['total_price'] * asset_events_df['payment_token.usd_price']"
      ],
      "metadata": {
        "id": "8PeQEhsVdCb9"
      },
      "execution_count": null,
      "outputs": []
    },
    {
      "cell_type": "code",
      "source": [
        "asset_events_df['total_price_usd']"
      ],
      "metadata": {
        "id": "5D8P7x7NenKu"
      },
      "execution_count": null,
      "outputs": []
    },
    {
      "cell_type": "code",
      "execution_count": null,
      "metadata": {
        "id": "BaS7ZoibQvSd"
      },
      "outputs": [],
      "source": [
        "asset_events_df = asset_events_df[['total_price','quantity','collection_slug','asset.num_sales','asset.name','payment_token.symbol','payment_token.usd_price','asset.asset_contract.address', 'asset.token_id', 'dev_seller_fee_basis_points']]"
      ]
    },
    {
      "cell_type": "code",
      "source": [
        "asset_events_df"
      ],
      "metadata": {
        "id": "5Kg1ch0rzD3w"
      },
      "execution_count": null,
      "outputs": []
    },
    {
      "cell_type": "code",
      "source": [
        "asset_events_df[asset_events_df['payment_token.symbol'].isna()]#1970 rows"
      ],
      "metadata": {
        "id": "aAYCp12T3KFV"
      },
      "execution_count": null,
      "outputs": []
    },
    {
      "cell_type": "code",
      "source": [
        "asset_events_df['payment_token.symbol'].isna().sum()"
      ],
      "metadata": {
        "colab": {
          "base_uri": "https://localhost:8080/"
        },
        "id": "VdVStXhy2vd3",
        "outputId": "5b30b96f-93da-4135-ac67-a35cd6b23178"
      },
      "execution_count": null,
      "outputs": [
        {
          "output_type": "execute_result",
          "data": {
            "text/plain": [
              "1970"
            ]
          },
          "metadata": {},
          "execution_count": 19
        }
      ]
    },
    {
      "cell_type": "code",
      "source": [
        "asset_events_df['payment_token.usd_price'].mean()"
      ],
      "metadata": {
        "colab": {
          "base_uri": "https://localhost:8080/"
        },
        "id": "-hOH1vQGd9bg",
        "outputId": "300c2e6a-d703-4c7c-c43d-a57a2d8190a5"
      },
      "execution_count": null,
      "outputs": [
        {
          "output_type": "execute_result",
          "data": {
            "text/plain": [
              "1750.7427269932894"
            ]
          },
          "metadata": {},
          "execution_count": 17
        }
      ]
    },
    {
      "cell_type": "code",
      "source": [
        "asset_events_df['payment_token.symbol'].unique()"
      ],
      "metadata": {
        "colab": {
          "base_uri": "https://localhost:8080/"
        },
        "id": "poNurGPtyn92",
        "outputId": "8ce606ba-7c78-4b63-c6f1-094c998701db"
      },
      "execution_count": null,
      "outputs": [
        {
          "output_type": "execute_result",
          "data": {
            "text/plain": [
              "array([nan, 'ETH', 'WETH', 'ASH', 'GALA', 'CUBE'], dtype=object)"
            ]
          },
          "metadata": {},
          "execution_count": 18
        }
      ]
    },
    {
      "cell_type": "code",
      "source": [
        "asset_events_eth_df = asset_events_df.loc[(asset_events_df['payment_token.symbol'] == 'ETH') | (asset_events_df['payment_token.symbol'] =='WETH')]"
      ],
      "metadata": {
        "id": "ktxvb-aksKog"
      },
      "execution_count": null,
      "outputs": []
    },
    {
      "cell_type": "code",
      "source": [
        "#Calculating sales price in USD.\n",
        "asset_events_eth_df['total_price_usd'] = asset_events_eth_df['total_price'] * asset_events_eth_df['payment_token.usd_price']"
      ],
      "metadata": {
        "id": "GaWJ0R1Cgcn7"
      },
      "execution_count": null,
      "outputs": []
    },
    {
      "cell_type": "code",
      "source": [
        "asset_events_eth_df"
      ],
      "metadata": {
        "colab": {
          "base_uri": "https://localhost:8080/",
          "height": 655
        },
        "id": "jxK5zLUntOYb",
        "outputId": "01e935c5-f721-4021-ae4e-3bc31f2275a6"
      },
      "execution_count": null,
      "outputs": [
        {
          "output_type": "execute_result",
          "data": {
            "text/plain": [
              "      total_price  quantity     collection_slug  asset.num_sales  \\\n",
              "2          0.7500         1       alienfrensnft              5.0   \n",
              "3          0.7500         1       alienfrensnft              5.0   \n",
              "4          0.7490         1       alienfrensnft              4.0   \n",
              "5          0.7440         1       alienfrensnft              7.0   \n",
              "6          0.7400         1       alienfrensnft              3.0   \n",
              "...           ...       ...                 ...              ...   \n",
              "5939       0.0800         1     mutantshibaclub              1.0   \n",
              "5940       0.0040         1         decentrabis              1.0   \n",
              "5941       0.0532         1            regulars              5.0   \n",
              "5942       0.0900         1             e-shell              1.0   \n",
              "5949       0.0310         1  tokyocloneofficial              1.0   \n",
              "\n",
              "            asset.name payment_token.symbol  payment_token.usd_price  \\\n",
              "2            alienfren                  ETH                  1191.62   \n",
              "3            alienfren                  ETH                  1191.62   \n",
              "4            alienfren                  ETH                  1191.62   \n",
              "5            alienfren                  ETH                  1191.62   \n",
              "6            alienfren                  ETH                  1191.62   \n",
              "...                ...                  ...                      ...   \n",
              "5939       MutantShiba                  ETH                  1191.62   \n",
              "5940  DecentrabisNuggy                  ETH                  1191.62   \n",
              "5941           Regular                  ETH                  1191.62   \n",
              "5942            EShell                  ETH                  1191.62   \n",
              "5949        TokyoClone                  ETH                  1191.62   \n",
              "\n",
              "                    asset.asset_contract.address asset.token_id  \\\n",
              "2     0x123b30e25973fecd8354dd5f41cc45a3065ef88c           6852   \n",
              "3     0x123b30e25973fecd8354dd5f41cc45a3065ef88c           6374   \n",
              "4     0x123b30e25973fecd8354dd5f41cc45a3065ef88c            419   \n",
              "5     0x123b30e25973fecd8354dd5f41cc45a3065ef88c           8812   \n",
              "6     0x123b30e25973fecd8354dd5f41cc45a3065ef88c           7210   \n",
              "...                                          ...            ...   \n",
              "5939  0xca95777971c7c438eecbd8bfc23249fbee99e716           6906   \n",
              "5940  0x6b7b0bba4b8c26680f267f5621025f146a4cbddf           2447   \n",
              "5941  0x6d0de90cdc47047982238fcf69944555d27ecb25           2209   \n",
              "5942  0xe41bea6888f771a0c16d7188284522b76c135252           2061   \n",
              "5949  0xc1830ab819941dd996567981d35f6e82162d44f0            181   \n",
              "\n",
              "      dev_seller_fee_basis_points  total_price_usd  \n",
              "2                           700.0       893.715000  \n",
              "3                           700.0       893.715000  \n",
              "4                           700.0       892.523380  \n",
              "5                           700.0       886.565280  \n",
              "6                           700.0       881.798800  \n",
              "...                           ...              ...  \n",
              "5939                        800.0        95.329600  \n",
              "5940                        500.0         4.766480  \n",
              "5941                        500.0        63.394184  \n",
              "5942                        750.0       107.245800  \n",
              "5949                        750.0        36.940220  \n",
              "\n",
              "[3968 rows x 11 columns]"
            ],
            "text/html": [
              "\n",
              "  <div id=\"df-eca01367-0004-42c2-b9dd-ca9a986968b3\">\n",
              "    <div class=\"colab-df-container\">\n",
              "      <div>\n",
              "<style scoped>\n",
              "    .dataframe tbody tr th:only-of-type {\n",
              "        vertical-align: middle;\n",
              "    }\n",
              "\n",
              "    .dataframe tbody tr th {\n",
              "        vertical-align: top;\n",
              "    }\n",
              "\n",
              "    .dataframe thead th {\n",
              "        text-align: right;\n",
              "    }\n",
              "</style>\n",
              "<table border=\"1\" class=\"dataframe\">\n",
              "  <thead>\n",
              "    <tr style=\"text-align: right;\">\n",
              "      <th></th>\n",
              "      <th>total_price</th>\n",
              "      <th>quantity</th>\n",
              "      <th>collection_slug</th>\n",
              "      <th>asset.num_sales</th>\n",
              "      <th>asset.name</th>\n",
              "      <th>payment_token.symbol</th>\n",
              "      <th>payment_token.usd_price</th>\n",
              "      <th>asset.asset_contract.address</th>\n",
              "      <th>asset.token_id</th>\n",
              "      <th>dev_seller_fee_basis_points</th>\n",
              "      <th>total_price_usd</th>\n",
              "    </tr>\n",
              "  </thead>\n",
              "  <tbody>\n",
              "    <tr>\n",
              "      <th>2</th>\n",
              "      <td>0.7500</td>\n",
              "      <td>1</td>\n",
              "      <td>alienfrensnft</td>\n",
              "      <td>5.0</td>\n",
              "      <td>alienfren</td>\n",
              "      <td>ETH</td>\n",
              "      <td>1191.62</td>\n",
              "      <td>0x123b30e25973fecd8354dd5f41cc45a3065ef88c</td>\n",
              "      <td>6852</td>\n",
              "      <td>700.0</td>\n",
              "      <td>893.715000</td>\n",
              "    </tr>\n",
              "    <tr>\n",
              "      <th>3</th>\n",
              "      <td>0.7500</td>\n",
              "      <td>1</td>\n",
              "      <td>alienfrensnft</td>\n",
              "      <td>5.0</td>\n",
              "      <td>alienfren</td>\n",
              "      <td>ETH</td>\n",
              "      <td>1191.62</td>\n",
              "      <td>0x123b30e25973fecd8354dd5f41cc45a3065ef88c</td>\n",
              "      <td>6374</td>\n",
              "      <td>700.0</td>\n",
              "      <td>893.715000</td>\n",
              "    </tr>\n",
              "    <tr>\n",
              "      <th>4</th>\n",
              "      <td>0.7490</td>\n",
              "      <td>1</td>\n",
              "      <td>alienfrensnft</td>\n",
              "      <td>4.0</td>\n",
              "      <td>alienfren</td>\n",
              "      <td>ETH</td>\n",
              "      <td>1191.62</td>\n",
              "      <td>0x123b30e25973fecd8354dd5f41cc45a3065ef88c</td>\n",
              "      <td>419</td>\n",
              "      <td>700.0</td>\n",
              "      <td>892.523380</td>\n",
              "    </tr>\n",
              "    <tr>\n",
              "      <th>5</th>\n",
              "      <td>0.7440</td>\n",
              "      <td>1</td>\n",
              "      <td>alienfrensnft</td>\n",
              "      <td>7.0</td>\n",
              "      <td>alienfren</td>\n",
              "      <td>ETH</td>\n",
              "      <td>1191.62</td>\n",
              "      <td>0x123b30e25973fecd8354dd5f41cc45a3065ef88c</td>\n",
              "      <td>8812</td>\n",
              "      <td>700.0</td>\n",
              "      <td>886.565280</td>\n",
              "    </tr>\n",
              "    <tr>\n",
              "      <th>6</th>\n",
              "      <td>0.7400</td>\n",
              "      <td>1</td>\n",
              "      <td>alienfrensnft</td>\n",
              "      <td>3.0</td>\n",
              "      <td>alienfren</td>\n",
              "      <td>ETH</td>\n",
              "      <td>1191.62</td>\n",
              "      <td>0x123b30e25973fecd8354dd5f41cc45a3065ef88c</td>\n",
              "      <td>7210</td>\n",
              "      <td>700.0</td>\n",
              "      <td>881.798800</td>\n",
              "    </tr>\n",
              "    <tr>\n",
              "      <th>...</th>\n",
              "      <td>...</td>\n",
              "      <td>...</td>\n",
              "      <td>...</td>\n",
              "      <td>...</td>\n",
              "      <td>...</td>\n",
              "      <td>...</td>\n",
              "      <td>...</td>\n",
              "      <td>...</td>\n",
              "      <td>...</td>\n",
              "      <td>...</td>\n",
              "      <td>...</td>\n",
              "    </tr>\n",
              "    <tr>\n",
              "      <th>5939</th>\n",
              "      <td>0.0800</td>\n",
              "      <td>1</td>\n",
              "      <td>mutantshibaclub</td>\n",
              "      <td>1.0</td>\n",
              "      <td>MutantShiba</td>\n",
              "      <td>ETH</td>\n",
              "      <td>1191.62</td>\n",
              "      <td>0xca95777971c7c438eecbd8bfc23249fbee99e716</td>\n",
              "      <td>6906</td>\n",
              "      <td>800.0</td>\n",
              "      <td>95.329600</td>\n",
              "    </tr>\n",
              "    <tr>\n",
              "      <th>5940</th>\n",
              "      <td>0.0040</td>\n",
              "      <td>1</td>\n",
              "      <td>decentrabis</td>\n",
              "      <td>1.0</td>\n",
              "      <td>DecentrabisNuggy</td>\n",
              "      <td>ETH</td>\n",
              "      <td>1191.62</td>\n",
              "      <td>0x6b7b0bba4b8c26680f267f5621025f146a4cbddf</td>\n",
              "      <td>2447</td>\n",
              "      <td>500.0</td>\n",
              "      <td>4.766480</td>\n",
              "    </tr>\n",
              "    <tr>\n",
              "      <th>5941</th>\n",
              "      <td>0.0532</td>\n",
              "      <td>1</td>\n",
              "      <td>regulars</td>\n",
              "      <td>5.0</td>\n",
              "      <td>Regular</td>\n",
              "      <td>ETH</td>\n",
              "      <td>1191.62</td>\n",
              "      <td>0x6d0de90cdc47047982238fcf69944555d27ecb25</td>\n",
              "      <td>2209</td>\n",
              "      <td>500.0</td>\n",
              "      <td>63.394184</td>\n",
              "    </tr>\n",
              "    <tr>\n",
              "      <th>5942</th>\n",
              "      <td>0.0900</td>\n",
              "      <td>1</td>\n",
              "      <td>e-shell</td>\n",
              "      <td>1.0</td>\n",
              "      <td>EShell</td>\n",
              "      <td>ETH</td>\n",
              "      <td>1191.62</td>\n",
              "      <td>0xe41bea6888f771a0c16d7188284522b76c135252</td>\n",
              "      <td>2061</td>\n",
              "      <td>750.0</td>\n",
              "      <td>107.245800</td>\n",
              "    </tr>\n",
              "    <tr>\n",
              "      <th>5949</th>\n",
              "      <td>0.0310</td>\n",
              "      <td>1</td>\n",
              "      <td>tokyocloneofficial</td>\n",
              "      <td>1.0</td>\n",
              "      <td>TokyoClone</td>\n",
              "      <td>ETH</td>\n",
              "      <td>1191.62</td>\n",
              "      <td>0xc1830ab819941dd996567981d35f6e82162d44f0</td>\n",
              "      <td>181</td>\n",
              "      <td>750.0</td>\n",
              "      <td>36.940220</td>\n",
              "    </tr>\n",
              "  </tbody>\n",
              "</table>\n",
              "<p>3968 rows × 11 columns</p>\n",
              "</div>\n",
              "      <button class=\"colab-df-convert\" onclick=\"convertToInteractive('df-eca01367-0004-42c2-b9dd-ca9a986968b3')\"\n",
              "              title=\"Convert this dataframe to an interactive table.\"\n",
              "              style=\"display:none;\">\n",
              "        \n",
              "  <svg xmlns=\"http://www.w3.org/2000/svg\" height=\"24px\"viewBox=\"0 0 24 24\"\n",
              "       width=\"24px\">\n",
              "    <path d=\"M0 0h24v24H0V0z\" fill=\"none\"/>\n",
              "    <path d=\"M18.56 5.44l.94 2.06.94-2.06 2.06-.94-2.06-.94-.94-2.06-.94 2.06-2.06.94zm-11 1L8.5 8.5l.94-2.06 2.06-.94-2.06-.94L8.5 2.5l-.94 2.06-2.06.94zm10 10l.94 2.06.94-2.06 2.06-.94-2.06-.94-.94-2.06-.94 2.06-2.06.94z\"/><path d=\"M17.41 7.96l-1.37-1.37c-.4-.4-.92-.59-1.43-.59-.52 0-1.04.2-1.43.59L10.3 9.45l-7.72 7.72c-.78.78-.78 2.05 0 2.83L4 21.41c.39.39.9.59 1.41.59.51 0 1.02-.2 1.41-.59l7.78-7.78 2.81-2.81c.8-.78.8-2.07 0-2.86zM5.41 20L4 18.59l7.72-7.72 1.47 1.35L5.41 20z\"/>\n",
              "  </svg>\n",
              "      </button>\n",
              "      \n",
              "  <style>\n",
              "    .colab-df-container {\n",
              "      display:flex;\n",
              "      flex-wrap:wrap;\n",
              "      gap: 12px;\n",
              "    }\n",
              "\n",
              "    .colab-df-convert {\n",
              "      background-color: #E8F0FE;\n",
              "      border: none;\n",
              "      border-radius: 50%;\n",
              "      cursor: pointer;\n",
              "      display: none;\n",
              "      fill: #1967D2;\n",
              "      height: 32px;\n",
              "      padding: 0 0 0 0;\n",
              "      width: 32px;\n",
              "    }\n",
              "\n",
              "    .colab-df-convert:hover {\n",
              "      background-color: #E2EBFA;\n",
              "      box-shadow: 0px 1px 2px rgba(60, 64, 67, 0.3), 0px 1px 3px 1px rgba(60, 64, 67, 0.15);\n",
              "      fill: #174EA6;\n",
              "    }\n",
              "\n",
              "    [theme=dark] .colab-df-convert {\n",
              "      background-color: #3B4455;\n",
              "      fill: #D2E3FC;\n",
              "    }\n",
              "\n",
              "    [theme=dark] .colab-df-convert:hover {\n",
              "      background-color: #434B5C;\n",
              "      box-shadow: 0px 1px 3px 1px rgba(0, 0, 0, 0.15);\n",
              "      filter: drop-shadow(0px 1px 2px rgba(0, 0, 0, 0.3));\n",
              "      fill: #FFFFFF;\n",
              "    }\n",
              "  </style>\n",
              "\n",
              "      <script>\n",
              "        const buttonEl =\n",
              "          document.querySelector('#df-eca01367-0004-42c2-b9dd-ca9a986968b3 button.colab-df-convert');\n",
              "        buttonEl.style.display =\n",
              "          google.colab.kernel.accessAllowed ? 'block' : 'none';\n",
              "\n",
              "        async function convertToInteractive(key) {\n",
              "          const element = document.querySelector('#df-eca01367-0004-42c2-b9dd-ca9a986968b3');\n",
              "          const dataTable =\n",
              "            await google.colab.kernel.invokeFunction('convertToInteractive',\n",
              "                                                     [key], {});\n",
              "          if (!dataTable) return;\n",
              "\n",
              "          const docLinkHtml = 'Like what you see? Visit the ' +\n",
              "            '<a target=\"_blank\" href=https://colab.research.google.com/notebooks/data_table.ipynb>data table notebook</a>'\n",
              "            + ' to learn more about interactive tables.';\n",
              "          element.innerHTML = '';\n",
              "          dataTable['output_type'] = 'display_data';\n",
              "          await google.colab.output.renderOutput(dataTable, element);\n",
              "          const docLink = document.createElement('div');\n",
              "          docLink.innerHTML = docLinkHtml;\n",
              "          element.appendChild(docLink);\n",
              "        }\n",
              "      </script>\n",
              "    </div>\n",
              "  </div>\n",
              "  "
            ]
          },
          "metadata": {},
          "execution_count": 22
        }
      ]
    },
    {
      "cell_type": "code",
      "source": [
        "asset_events_eth_df = asset_events_eth_df.groupby(['asset.name','collection_slug'], as_index=False).agg({'total_price': 'mean', 'quantity': 'first','asset.num_sales':'mean', 'total_price_usd':'first', 'payment_token.usd_price':'mean', 'total_price_usd':'mean' })"
      ],
      "metadata": {
        "id": "Eas67hjUtnea"
      },
      "execution_count": null,
      "outputs": []
    },
    {
      "cell_type": "code",
      "source": [
        "#Agreggate by asset name and collection slug\n",
        "asset_events_eth_df = asset_events_eth_df.groupby(['asset.name','collection_slug'], as_index = False).sum()"
      ],
      "metadata": {
        "id": "DbWnc61_BE6C"
      },
      "execution_count": null,
      "outputs": []
    },
    {
      "cell_type": "code",
      "source": [
        "asset_events_eth_df.keys()"
      ],
      "metadata": {
        "colab": {
          "base_uri": "https://localhost:8080/"
        },
        "id": "30eR2HasF4Qa",
        "outputId": "709d3c77-6eff-463f-fe21-b8eec5010be3"
      },
      "execution_count": null,
      "outputs": [
        {
          "output_type": "execute_result",
          "data": {
            "text/plain": [
              "Index(['total_price', 'quantity', 'collection_slug', 'asset.num_sales',\n",
              "       'asset.name', 'payment_token.symbol', 'payment_token.usd_price',\n",
              "       'asset.asset_contract.address', 'asset.token_id',\n",
              "       'dev_seller_fee_basis_points', 'total_price_usd'],\n",
              "      dtype='object')"
            ]
          },
          "metadata": {},
          "execution_count": 25
        }
      ]
    },
    {
      "cell_type": "code",
      "source": [
        "len(asset_events_eth_df)#we have 5950 events"
      ],
      "metadata": {
        "colab": {
          "base_uri": "https://localhost:8080/"
        },
        "id": "CZEK2CslWvk1",
        "outputId": "777215e5-828d-45af-e15c-434de7b62361"
      },
      "execution_count": null,
      "outputs": [
        {
          "output_type": "execute_result",
          "data": {
            "text/plain": [
              "1530"
            ]
          },
          "metadata": {},
          "execution_count": 23
        }
      ]
    },
    {
      "cell_type": "code",
      "source": [
        "len(asset_events_eth_df['asset.name'].unique())# I am doing this to check that we don't have a lot of repeated ones\n",
        "#we have 2341 unique asset events"
      ],
      "metadata": {
        "colab": {
          "base_uri": "https://localhost:8080/"
        },
        "id": "2cvQxkBuWnE9",
        "outputId": "d3c9be98-ce92-4c9e-cd1f-c982ac710a65"
      },
      "execution_count": null,
      "outputs": [
        {
          "output_type": "execute_result",
          "data": {
            "text/plain": [
              "1417"
            ]
          },
          "metadata": {},
          "execution_count": 24
        }
      ]
    },
    {
      "cell_type": "code",
      "source": [
        "asset_events_eth_df"
      ],
      "metadata": {
        "id": "wKZ_tkY8FuN4",
        "colab": {
          "base_uri": "https://localhost:8080/",
          "height": 424
        },
        "outputId": "0c234a5f-ac93-40d0-b0c4-aea4a3d8e75c"
      },
      "execution_count": null,
      "outputs": [
        {
          "output_type": "execute_result",
          "data": {
            "text/plain": [
              "            asset.name         collection_slug  total_price  quantity  \\\n",
              "0                               animo-official     0.159450         1   \n",
              "1                                 avius-animae     0.042000         1   \n",
              "2                              baby-cub-tigers     0.060000         1   \n",
              "3                                     bakedape     0.250000         1   \n",
              "4                                    barn-owlz     0.060000         1   \n",
              "...                ...                     ...          ...       ...   \n",
              "1523             xmfer                  xmfers     0.186610         1   \n",
              "1524            xmfers                 0xmfers     0.003267         1   \n",
              "1525          Ïmumonen              lootrealms     1.750000         1   \n",
              "1526             ἀκτῑς  futuristek-hieroglyphx     0.077700         1   \n",
              "1527  𝕄𝕚𝕕𝕟𝕚𝕘𝕙𝕥夏季𝔹𝕣𝕖𝕖𝕫𝕖          midnightbreeze     0.390000         1   \n",
              "\n",
              "      asset.num_sales  total_price_usd  payment_token.usd_price  \n",
              "0            4.000000       190.003809                 1191.620  \n",
              "1            1.000000        50.048040                 1191.620  \n",
              "2            2.000000        71.283000                 1188.050  \n",
              "3            1.000000       297.905000                 1191.620  \n",
              "4            3.000000        71.497200                 1191.620  \n",
              "...               ...              ...                      ...  \n",
              "1523         2.200000       222.261108                 1191.263  \n",
              "1524         1.333333         3.892625                 1191.620  \n",
              "1525         3.000000      2085.335000                 1191.620  \n",
              "1526        21.000000        92.588874                 1191.620  \n",
              "1527         1.000000       464.731800                 1191.620  \n",
              "\n",
              "[1528 rows x 7 columns]"
            ],
            "text/html": [
              "\n",
              "  <div id=\"df-5449be36-2383-4ad1-adad-9e61306d2628\">\n",
              "    <div class=\"colab-df-container\">\n",
              "      <div>\n",
              "<style scoped>\n",
              "    .dataframe tbody tr th:only-of-type {\n",
              "        vertical-align: middle;\n",
              "    }\n",
              "\n",
              "    .dataframe tbody tr th {\n",
              "        vertical-align: top;\n",
              "    }\n",
              "\n",
              "    .dataframe thead th {\n",
              "        text-align: right;\n",
              "    }\n",
              "</style>\n",
              "<table border=\"1\" class=\"dataframe\">\n",
              "  <thead>\n",
              "    <tr style=\"text-align: right;\">\n",
              "      <th></th>\n",
              "      <th>asset.name</th>\n",
              "      <th>collection_slug</th>\n",
              "      <th>total_price</th>\n",
              "      <th>quantity</th>\n",
              "      <th>asset.num_sales</th>\n",
              "      <th>total_price_usd</th>\n",
              "      <th>payment_token.usd_price</th>\n",
              "    </tr>\n",
              "  </thead>\n",
              "  <tbody>\n",
              "    <tr>\n",
              "      <th>0</th>\n",
              "      <td></td>\n",
              "      <td>animo-official</td>\n",
              "      <td>0.159450</td>\n",
              "      <td>1</td>\n",
              "      <td>4.000000</td>\n",
              "      <td>190.003809</td>\n",
              "      <td>1191.620</td>\n",
              "    </tr>\n",
              "    <tr>\n",
              "      <th>1</th>\n",
              "      <td></td>\n",
              "      <td>avius-animae</td>\n",
              "      <td>0.042000</td>\n",
              "      <td>1</td>\n",
              "      <td>1.000000</td>\n",
              "      <td>50.048040</td>\n",
              "      <td>1191.620</td>\n",
              "    </tr>\n",
              "    <tr>\n",
              "      <th>2</th>\n",
              "      <td></td>\n",
              "      <td>baby-cub-tigers</td>\n",
              "      <td>0.060000</td>\n",
              "      <td>1</td>\n",
              "      <td>2.000000</td>\n",
              "      <td>71.283000</td>\n",
              "      <td>1188.050</td>\n",
              "    </tr>\n",
              "    <tr>\n",
              "      <th>3</th>\n",
              "      <td></td>\n",
              "      <td>bakedape</td>\n",
              "      <td>0.250000</td>\n",
              "      <td>1</td>\n",
              "      <td>1.000000</td>\n",
              "      <td>297.905000</td>\n",
              "      <td>1191.620</td>\n",
              "    </tr>\n",
              "    <tr>\n",
              "      <th>4</th>\n",
              "      <td></td>\n",
              "      <td>barn-owlz</td>\n",
              "      <td>0.060000</td>\n",
              "      <td>1</td>\n",
              "      <td>3.000000</td>\n",
              "      <td>71.497200</td>\n",
              "      <td>1191.620</td>\n",
              "    </tr>\n",
              "    <tr>\n",
              "      <th>...</th>\n",
              "      <td>...</td>\n",
              "      <td>...</td>\n",
              "      <td>...</td>\n",
              "      <td>...</td>\n",
              "      <td>...</td>\n",
              "      <td>...</td>\n",
              "      <td>...</td>\n",
              "    </tr>\n",
              "    <tr>\n",
              "      <th>1523</th>\n",
              "      <td>xmfer</td>\n",
              "      <td>xmfers</td>\n",
              "      <td>0.186610</td>\n",
              "      <td>1</td>\n",
              "      <td>2.200000</td>\n",
              "      <td>222.261108</td>\n",
              "      <td>1191.263</td>\n",
              "    </tr>\n",
              "    <tr>\n",
              "      <th>1524</th>\n",
              "      <td>xmfers</td>\n",
              "      <td>0xmfers</td>\n",
              "      <td>0.003267</td>\n",
              "      <td>1</td>\n",
              "      <td>1.333333</td>\n",
              "      <td>3.892625</td>\n",
              "      <td>1191.620</td>\n",
              "    </tr>\n",
              "    <tr>\n",
              "      <th>1525</th>\n",
              "      <td>Ïmumonen</td>\n",
              "      <td>lootrealms</td>\n",
              "      <td>1.750000</td>\n",
              "      <td>1</td>\n",
              "      <td>3.000000</td>\n",
              "      <td>2085.335000</td>\n",
              "      <td>1191.620</td>\n",
              "    </tr>\n",
              "    <tr>\n",
              "      <th>1526</th>\n",
              "      <td>ἀκτῑς</td>\n",
              "      <td>futuristek-hieroglyphx</td>\n",
              "      <td>0.077700</td>\n",
              "      <td>1</td>\n",
              "      <td>21.000000</td>\n",
              "      <td>92.588874</td>\n",
              "      <td>1191.620</td>\n",
              "    </tr>\n",
              "    <tr>\n",
              "      <th>1527</th>\n",
              "      <td>𝕄𝕚𝕕𝕟𝕚𝕘𝕙𝕥夏季𝔹𝕣𝕖𝕖𝕫𝕖</td>\n",
              "      <td>midnightbreeze</td>\n",
              "      <td>0.390000</td>\n",
              "      <td>1</td>\n",
              "      <td>1.000000</td>\n",
              "      <td>464.731800</td>\n",
              "      <td>1191.620</td>\n",
              "    </tr>\n",
              "  </tbody>\n",
              "</table>\n",
              "<p>1528 rows × 7 columns</p>\n",
              "</div>\n",
              "      <button class=\"colab-df-convert\" onclick=\"convertToInteractive('df-5449be36-2383-4ad1-adad-9e61306d2628')\"\n",
              "              title=\"Convert this dataframe to an interactive table.\"\n",
              "              style=\"display:none;\">\n",
              "        \n",
              "  <svg xmlns=\"http://www.w3.org/2000/svg\" height=\"24px\"viewBox=\"0 0 24 24\"\n",
              "       width=\"24px\">\n",
              "    <path d=\"M0 0h24v24H0V0z\" fill=\"none\"/>\n",
              "    <path d=\"M18.56 5.44l.94 2.06.94-2.06 2.06-.94-2.06-.94-.94-2.06-.94 2.06-2.06.94zm-11 1L8.5 8.5l.94-2.06 2.06-.94-2.06-.94L8.5 2.5l-.94 2.06-2.06.94zm10 10l.94 2.06.94-2.06 2.06-.94-2.06-.94-.94-2.06-.94 2.06-2.06.94z\"/><path d=\"M17.41 7.96l-1.37-1.37c-.4-.4-.92-.59-1.43-.59-.52 0-1.04.2-1.43.59L10.3 9.45l-7.72 7.72c-.78.78-.78 2.05 0 2.83L4 21.41c.39.39.9.59 1.41.59.51 0 1.02-.2 1.41-.59l7.78-7.78 2.81-2.81c.8-.78.8-2.07 0-2.86zM5.41 20L4 18.59l7.72-7.72 1.47 1.35L5.41 20z\"/>\n",
              "  </svg>\n",
              "      </button>\n",
              "      \n",
              "  <style>\n",
              "    .colab-df-container {\n",
              "      display:flex;\n",
              "      flex-wrap:wrap;\n",
              "      gap: 12px;\n",
              "    }\n",
              "\n",
              "    .colab-df-convert {\n",
              "      background-color: #E8F0FE;\n",
              "      border: none;\n",
              "      border-radius: 50%;\n",
              "      cursor: pointer;\n",
              "      display: none;\n",
              "      fill: #1967D2;\n",
              "      height: 32px;\n",
              "      padding: 0 0 0 0;\n",
              "      width: 32px;\n",
              "    }\n",
              "\n",
              "    .colab-df-convert:hover {\n",
              "      background-color: #E2EBFA;\n",
              "      box-shadow: 0px 1px 2px rgba(60, 64, 67, 0.3), 0px 1px 3px 1px rgba(60, 64, 67, 0.15);\n",
              "      fill: #174EA6;\n",
              "    }\n",
              "\n",
              "    [theme=dark] .colab-df-convert {\n",
              "      background-color: #3B4455;\n",
              "      fill: #D2E3FC;\n",
              "    }\n",
              "\n",
              "    [theme=dark] .colab-df-convert:hover {\n",
              "      background-color: #434B5C;\n",
              "      box-shadow: 0px 1px 3px 1px rgba(0, 0, 0, 0.15);\n",
              "      filter: drop-shadow(0px 1px 2px rgba(0, 0, 0, 0.3));\n",
              "      fill: #FFFFFF;\n",
              "    }\n",
              "  </style>\n",
              "\n",
              "      <script>\n",
              "        const buttonEl =\n",
              "          document.querySelector('#df-5449be36-2383-4ad1-adad-9e61306d2628 button.colab-df-convert');\n",
              "        buttonEl.style.display =\n",
              "          google.colab.kernel.accessAllowed ? 'block' : 'none';\n",
              "\n",
              "        async function convertToInteractive(key) {\n",
              "          const element = document.querySelector('#df-5449be36-2383-4ad1-adad-9e61306d2628');\n",
              "          const dataTable =\n",
              "            await google.colab.kernel.invokeFunction('convertToInteractive',\n",
              "                                                     [key], {});\n",
              "          if (!dataTable) return;\n",
              "\n",
              "          const docLinkHtml = 'Like what you see? Visit the ' +\n",
              "            '<a target=\"_blank\" href=https://colab.research.google.com/notebooks/data_table.ipynb>data table notebook</a>'\n",
              "            + ' to learn more about interactive tables.';\n",
              "          element.innerHTML = '';\n",
              "          dataTable['output_type'] = 'display_data';\n",
              "          await google.colab.output.renderOutput(dataTable, element);\n",
              "          const docLink = document.createElement('div');\n",
              "          docLink.innerHTML = docLinkHtml;\n",
              "          element.appendChild(docLink);\n",
              "        }\n",
              "      </script>\n",
              "    </div>\n",
              "  </div>\n",
              "  "
            ]
          },
          "metadata": {},
          "execution_count": 28
        }
      ]
    },
    {
      "cell_type": "code",
      "execution_count": null,
      "metadata": {
        "id": "D7UbI12aM3qt",
        "tags": []
      },
      "outputs": [],
      "source": [
        "asset_events_df.to_csv('/content/drive/MyDrive/MADSThesis_Alejandro/asset_events.csv',index=False)"
      ]
    },
    {
      "cell_type": "code",
      "source": [
        "asset_events_eth_df.to_csv('/content/drive/MyDrive/MADSThesis_Alejandro/eth_events_2.csv',index=False)"
      ],
      "metadata": {
        "id": "8y457ktMLlr4"
      },
      "execution_count": null,
      "outputs": []
    },
    {
      "cell_type": "code",
      "source": [
        "asset_events_df = pd.read_csv('/content/drive/MyDrive/MADSThesis_Alejandro/asset_events.csv')"
      ],
      "metadata": {
        "id": "ojhd_X4ETri4"
      },
      "execution_count": null,
      "outputs": []
    },
    {
      "cell_type": "markdown",
      "source": [
        "## Twitter Scraping\n"
      ],
      "metadata": {
        "id": "e1omPmnZfvxD"
      }
    },
    {
      "cell_type": "markdown",
      "source": [
        "**Dataset**\n",
        "\n",
        "Using open software ''snscrape''."
      ],
      "metadata": {
        "id": "fTRDMZCRhEut"
      }
    },
    {
      "cell_type": "code",
      "execution_count": null,
      "metadata": {
        "id": "-FVAUyRVH0Hi"
      },
      "outputs": [],
      "source": [
        "!pip3 install snscrape\n",
        "#!pip3 install git+https://github.com/JustAnotherArchivist/snscrape.git needs to be run in python 3.8\n",
        "import snscrape.modules.twitter as sntwitter\n",
        "import pandas as pd\n",
        "import tqdm"
      ]
    },
    {
      "cell_type": "code",
      "execution_count": null,
      "metadata": {
        "id": "jRq6_k7GXCzX"
      },
      "outputs": [],
      "source": [
        "from google.colab import drive\n",
        "drive.mount('/content/drive')"
      ]
    },
    {
      "cell_type": "code",
      "execution_count": null,
      "metadata": {
        "id": "h2sMTdNWIS2Q"
      },
      "outputs": [],
      "source": [
        "assets = pd.read_csv('/content/drive/MyDrive/MADSThesis_Alejandro/eth_events.csv')\n",
        "asset_name = assets['asset.name']\n",
        "asset_name"
      ]
    },
    {
      "cell_type": "code",
      "execution_count": null,
      "metadata": {
        "id": "LL_1DHS2ghsm"
      },
      "outputs": [],
      "source": [
        "assets.info(verbose = True)"
      ]
    },
    {
      "cell_type": "code",
      "execution_count": null,
      "metadata": {
        "id": "_NgpntEgN4eC"
      },
      "outputs": [],
      "source": [
        "# Creating list to append tweet data.\n",
        "tweets_list1 = []\n",
        "# Using TwitterSearchScraper to scrape data and append tweets to list.\n",
        "# this enumerate function will give all the tweets\n",
        "tweet_dict = {}\n",
        "for x in asset_name[86:285]:\n",
        "  if isinstance(x,str):\n",
        "   for i, tweet in enumerate(sntwitter.TwitterSearchScraper('NFT'+ '#' + x  ).get_items()):\n",
        "    #i>5000 and then break, it will stop scraping at 5001\n",
        "      if i>20:\n",
        "          break\n",
        "      tweets_list1.append([x ,tweet.date, tweet.id, tweet.content, tweet.user.username])#tweet.retweetCount, tweet.replyCount and tweet.likeCount, tweet.user.followersCount, tweet.user.favouritesCount\n",
        "      #this last part is giving us the data that we are scraping, in this case date, id, content and username\n",
        "  else:\n",
        "    tweets_list1.append(['']*4)\n",
        "tweet_df = pd.DataFrame(tweets_list1, columns=['AssetName','Datetime', 'Tweet Id', 'Text', 'Username'])"
      ]
    },
    {
      "cell_type": "code",
      "execution_count": null,
      "metadata": {
        "id": "RgF5m805-eav"
      },
      "outputs": [],
      "source": [
        "asset_name[86:185]"
      ]
    },
    {
      "cell_type": "code",
      "execution_count": null,
      "metadata": {
        "id": "eQE-8qR1XEgf"
      },
      "outputs": [],
      "source": [
        "tweet_df"
      ]
    },
    {
      "cell_type": "code",
      "execution_count": null,
      "metadata": {
        "id": "y1TAQT7d2dfK"
      },
      "outputs": [],
      "source": [
        "tweet_df.info(verbose = True)"
      ]
    },
    {
      "cell_type": "markdown",
      "source": [
        "**Twitter Data Cleaning**\n",
        "\n",
        "Tweets are cleaned from external links and the use of emojis, to improve accuracy of the sentiment analysis."
      ],
      "metadata": {
        "id": "0JouitrrhtKn"
      }
    },
    {
      "cell_type": "code",
      "source": [
        "!pip install emoji --upgrade"
      ],
      "metadata": {
        "colab": {
          "base_uri": "https://localhost:8080/"
        },
        "id": "9KHv3Z9UEmxB",
        "outputId": "f65d2b17-2b8d-4a9a-c439-495f02d125dc"
      },
      "execution_count": null,
      "outputs": [
        {
          "output_type": "stream",
          "name": "stdout",
          "text": [
            "Looking in indexes: https://pypi.org/simple, https://us-python.pkg.dev/colab-wheels/public/simple/\n",
            "Collecting emoji\n",
            "  Downloading emoji-1.7.0.tar.gz (175 kB)\n",
            "\u001b[K     |████████████████████████████████| 175 kB 4.5 MB/s \n",
            "\u001b[?25hBuilding wheels for collected packages: emoji\n",
            "  Building wheel for emoji (setup.py) ... \u001b[?25l\u001b[?25hdone\n",
            "  Created wheel for emoji: filename=emoji-1.7.0-py3-none-any.whl size=171046 sha256=10de819a852d468518ec9ded0df892fd662f7d27a518d0f8faae30a14c37b2f0\n",
            "  Stored in directory: /root/.cache/pip/wheels/8a/4e/b6/57b01db010d17ef6ea9b40300af725ef3e210cb1acfb7ac8b6\n",
            "Successfully built emoji\n",
            "Installing collected packages: emoji\n",
            "Successfully installed emoji-1.7.0\n"
          ]
        }
      ]
    },
    {
      "cell_type": "code",
      "source": [
        "import re, string\n",
        "import emoji\n",
        "import nltk\n",
        "\n",
        "from sklearn import preprocessing\n",
        "from imblearn.over_sampling import RandomOverSampler\n",
        "from sklearn.model_selection import train_test_split"
      ],
      "metadata": {
        "id": "ldm4AGsYDgqm"
      },
      "execution_count": null,
      "outputs": []
    },
    {
      "cell_type": "code",
      "source": [
        "len(tweet_df)"
      ],
      "metadata": {
        "colab": {
          "base_uri": "https://localhost:8080/"
        },
        "id": "jo-gOdXhF3E_",
        "outputId": "adff8cba-b25c-468b-bf55-fa84e268317d"
      },
      "execution_count": null,
      "outputs": [
        {
          "output_type": "execute_result",
          "data": {
            "text/plain": [
              "85939"
            ]
          },
          "metadata": {},
          "execution_count": 13
        }
      ]
    },
    {
      "cell_type": "code",
      "source": [
        "len(tweet_df['Text'].unique())"
      ],
      "metadata": {
        "colab": {
          "base_uri": "https://localhost:8080/"
        },
        "id": "-KOhsbCHEs2v",
        "outputId": "4415a21d-56da-4509-a1fd-6b66df975a5c"
      },
      "execution_count": null,
      "outputs": [
        {
          "output_type": "execute_result",
          "data": {
            "text/plain": [
              "78132"
            ]
          },
          "metadata": {},
          "execution_count": 13
        }
      ]
    },
    {
      "cell_type": "code",
      "source": [
        "tweet_to_try = tweet_df"
      ],
      "metadata": {
        "id": "o5f0hxUzGOrd"
      },
      "execution_count": null,
      "outputs": []
    },
    {
      "cell_type": "code",
      "source": [
        "def strip_emoji(text):\n",
        "    return re.sub(emoji.get_emoji_regexp(), r\"\", text)"
      ],
      "metadata": {
        "id": "RAPCJastHFse"
      },
      "execution_count": null,
      "outputs": []
    },
    {
      "cell_type": "code",
      "source": [
        "def strip_all_entities(text):\n",
        "    text = text.replace('\\r', '').replace('\\n', ' ').replace('\\n', ' ').lower() #remove \\n and \\r and lowercase\n",
        "    text = re.sub(r\"(?:\\@|https?\\://)\\S+\", \"\", text) #remove links and mentions\n",
        "    text = re.sub(r'[^\\x00-\\x7f]',r'', text) #remove non utf8/ascii characters such as '\\x9a\\x91\\x97\\x9a\\x97'\n",
        "    banned_list= string.punctuation + 'Ã'+'±'+'ã'+'¼'+'â'+'»'+'§'\n",
        "    table = str.maketrans('', '', banned_list)\n",
        "    text = text.translate(table)\n",
        "    return text"
      ],
      "metadata": {
        "id": "dkFA7acsHSXY"
      },
      "execution_count": null,
      "outputs": []
    },
    {
      "cell_type": "code",
      "source": [
        "texts_new = []\n",
        "for t in tweet_to_try['Text'].iloc[10000:85939]:\n",
        "    texts_new.append(strip_all_entities(strip_emoji(t)))"
      ],
      "metadata": {
        "id": "Qn0AooqfHf-I"
      },
      "execution_count": null,
      "outputs": []
    },
    {
      "cell_type": "code",
      "source": [
        "texts_new"
      ],
      "metadata": {
        "id": "mYcnmDooJ_2j"
      },
      "execution_count": null,
      "outputs": []
    },
    {
      "cell_type": "code",
      "source": [
        "tweet_to_try2 = tweet_to_try.iloc[10000:85939]"
      ],
      "metadata": {
        "id": "PhDMlA56JHHM"
      },
      "execution_count": null,
      "outputs": []
    },
    {
      "cell_type": "code",
      "source": [
        "tweet_to_try2['text_clean'] = texts_new"
      ],
      "metadata": {
        "id": "BJ59A_I1I3sA"
      },
      "execution_count": null,
      "outputs": []
    },
    {
      "cell_type": "code",
      "source": [
        "tweet_to_try2.head()"
      ],
      "metadata": {
        "colab": {
          "base_uri": "https://localhost:8080/",
          "height": 594
        },
        "id": "RVgF2lhWJWzT",
        "outputId": "c831acb6-9a5d-4d4f-e24d-34b515313bed"
      },
      "execution_count": null,
      "outputs": [
        {
          "output_type": "execute_result",
          "data": {
            "text/plain": [
              "        AssetName                   Datetime      Tweet Id  \\\n",
              "10000  BoredMummy  2021-09-10 17:03:24+00:00  1.436375e+18   \n",
              "10001  BoredMummy  2021-09-10 15:51:37+00:00  1.436357e+18   \n",
              "10002  BoredMummy  2021-09-10 08:08:33+00:00  1.436240e+18   \n",
              "10003  BoredMummy  2021-09-09 23:47:52+00:00  1.436114e+18   \n",
              "10004  BoredMummy  2021-09-08 19:23:36+00:00  1.435685e+18   \n",
              "\n",
              "                                                    Text      Username  \\\n",
              "10000  🙏 Thank you ser❤\\n#mummygang we made it🎉🥰 we f...  BoredMummyWU   \n",
              "10001  Bored Mummy Waking Up - Trading Price Analysis...   spr3adsh33t   \n",
              "10002  My new Bored Mummy#4289 #NewProfilePic\\n\\n@Bor...      itskim_D   \n",
              "10003  Bored Mummy Waking Up - Trading Price Analysis...   spr3adsh33t   \n",
              "10004  Bored Mummy Waking Up - Trading Price Analysis...   spr3adsh33t   \n",
              "\n",
              "       Retweets  Replies  Likes  Followers  Favourites  Negative  Neutral  \\\n",
              "10000       7.0      0.0   29.0    16290.0      8983.0       0.0      0.0   \n",
              "10001       0.0      0.0    1.0    30936.0     10542.0       0.0      0.0   \n",
              "10002       2.0      0.0   10.0     4821.0     18159.0       0.0      0.0   \n",
              "10003       0.0      0.0    1.0    30936.0     10542.0       0.0      0.0   \n",
              "10004       0.0      3.0    1.0    30936.0     10542.0       0.0      0.0   \n",
              "\n",
              "       Positive                                         text_clean  \n",
              "10000       0.0   thank you ser mummygang we made it we felt th...  \n",
              "10001       0.0  bored mummy waking up  trading price analysis ...  \n",
              "10002       0.0  my new bored mummy4289 newprofilepic    nft bo...  \n",
              "10003       0.0  bored mummy waking up  trading price analysis ...  \n",
              "10004       0.0  bored mummy waking up  trading price analysis ...  "
            ],
            "text/html": [
              "\n",
              "  <div id=\"df-c2dc54df-64b6-4b1c-9084-d2f293465237\">\n",
              "    <div class=\"colab-df-container\">\n",
              "      <div>\n",
              "<style scoped>\n",
              "    .dataframe tbody tr th:only-of-type {\n",
              "        vertical-align: middle;\n",
              "    }\n",
              "\n",
              "    .dataframe tbody tr th {\n",
              "        vertical-align: top;\n",
              "    }\n",
              "\n",
              "    .dataframe thead th {\n",
              "        text-align: right;\n",
              "    }\n",
              "</style>\n",
              "<table border=\"1\" class=\"dataframe\">\n",
              "  <thead>\n",
              "    <tr style=\"text-align: right;\">\n",
              "      <th></th>\n",
              "      <th>AssetName</th>\n",
              "      <th>Datetime</th>\n",
              "      <th>Tweet Id</th>\n",
              "      <th>Text</th>\n",
              "      <th>Username</th>\n",
              "      <th>Retweets</th>\n",
              "      <th>Replies</th>\n",
              "      <th>Likes</th>\n",
              "      <th>Followers</th>\n",
              "      <th>Favourites</th>\n",
              "      <th>Negative</th>\n",
              "      <th>Neutral</th>\n",
              "      <th>Positive</th>\n",
              "      <th>text_clean</th>\n",
              "    </tr>\n",
              "  </thead>\n",
              "  <tbody>\n",
              "    <tr>\n",
              "      <th>10000</th>\n",
              "      <td>BoredMummy</td>\n",
              "      <td>2021-09-10 17:03:24+00:00</td>\n",
              "      <td>1.436375e+18</td>\n",
              "      <td>🙏 Thank you ser❤\\n#mummygang we made it🎉🥰 we f...</td>\n",
              "      <td>BoredMummyWU</td>\n",
              "      <td>7.0</td>\n",
              "      <td>0.0</td>\n",
              "      <td>29.0</td>\n",
              "      <td>16290.0</td>\n",
              "      <td>8983.0</td>\n",
              "      <td>0.0</td>\n",
              "      <td>0.0</td>\n",
              "      <td>0.0</td>\n",
              "      <td>thank you ser mummygang we made it we felt th...</td>\n",
              "    </tr>\n",
              "    <tr>\n",
              "      <th>10001</th>\n",
              "      <td>BoredMummy</td>\n",
              "      <td>2021-09-10 15:51:37+00:00</td>\n",
              "      <td>1.436357e+18</td>\n",
              "      <td>Bored Mummy Waking Up - Trading Price Analysis...</td>\n",
              "      <td>spr3adsh33t</td>\n",
              "      <td>0.0</td>\n",
              "      <td>0.0</td>\n",
              "      <td>1.0</td>\n",
              "      <td>30936.0</td>\n",
              "      <td>10542.0</td>\n",
              "      <td>0.0</td>\n",
              "      <td>0.0</td>\n",
              "      <td>0.0</td>\n",
              "      <td>bored mummy waking up  trading price analysis ...</td>\n",
              "    </tr>\n",
              "    <tr>\n",
              "      <th>10002</th>\n",
              "      <td>BoredMummy</td>\n",
              "      <td>2021-09-10 08:08:33+00:00</td>\n",
              "      <td>1.436240e+18</td>\n",
              "      <td>My new Bored Mummy#4289 #NewProfilePic\\n\\n@Bor...</td>\n",
              "      <td>itskim_D</td>\n",
              "      <td>2.0</td>\n",
              "      <td>0.0</td>\n",
              "      <td>10.0</td>\n",
              "      <td>4821.0</td>\n",
              "      <td>18159.0</td>\n",
              "      <td>0.0</td>\n",
              "      <td>0.0</td>\n",
              "      <td>0.0</td>\n",
              "      <td>my new bored mummy4289 newprofilepic    nft bo...</td>\n",
              "    </tr>\n",
              "    <tr>\n",
              "      <th>10003</th>\n",
              "      <td>BoredMummy</td>\n",
              "      <td>2021-09-09 23:47:52+00:00</td>\n",
              "      <td>1.436114e+18</td>\n",
              "      <td>Bored Mummy Waking Up - Trading Price Analysis...</td>\n",
              "      <td>spr3adsh33t</td>\n",
              "      <td>0.0</td>\n",
              "      <td>0.0</td>\n",
              "      <td>1.0</td>\n",
              "      <td>30936.0</td>\n",
              "      <td>10542.0</td>\n",
              "      <td>0.0</td>\n",
              "      <td>0.0</td>\n",
              "      <td>0.0</td>\n",
              "      <td>bored mummy waking up  trading price analysis ...</td>\n",
              "    </tr>\n",
              "    <tr>\n",
              "      <th>10004</th>\n",
              "      <td>BoredMummy</td>\n",
              "      <td>2021-09-08 19:23:36+00:00</td>\n",
              "      <td>1.435685e+18</td>\n",
              "      <td>Bored Mummy Waking Up - Trading Price Analysis...</td>\n",
              "      <td>spr3adsh33t</td>\n",
              "      <td>0.0</td>\n",
              "      <td>3.0</td>\n",
              "      <td>1.0</td>\n",
              "      <td>30936.0</td>\n",
              "      <td>10542.0</td>\n",
              "      <td>0.0</td>\n",
              "      <td>0.0</td>\n",
              "      <td>0.0</td>\n",
              "      <td>bored mummy waking up  trading price analysis ...</td>\n",
              "    </tr>\n",
              "  </tbody>\n",
              "</table>\n",
              "</div>\n",
              "      <button class=\"colab-df-convert\" onclick=\"convertToInteractive('df-c2dc54df-64b6-4b1c-9084-d2f293465237')\"\n",
              "              title=\"Convert this dataframe to an interactive table.\"\n",
              "              style=\"display:none;\">\n",
              "        \n",
              "  <svg xmlns=\"http://www.w3.org/2000/svg\" height=\"24px\"viewBox=\"0 0 24 24\"\n",
              "       width=\"24px\">\n",
              "    <path d=\"M0 0h24v24H0V0z\" fill=\"none\"/>\n",
              "    <path d=\"M18.56 5.44l.94 2.06.94-2.06 2.06-.94-2.06-.94-.94-2.06-.94 2.06-2.06.94zm-11 1L8.5 8.5l.94-2.06 2.06-.94-2.06-.94L8.5 2.5l-.94 2.06-2.06.94zm10 10l.94 2.06.94-2.06 2.06-.94-2.06-.94-.94-2.06-.94 2.06-2.06.94z\"/><path d=\"M17.41 7.96l-1.37-1.37c-.4-.4-.92-.59-1.43-.59-.52 0-1.04.2-1.43.59L10.3 9.45l-7.72 7.72c-.78.78-.78 2.05 0 2.83L4 21.41c.39.39.9.59 1.41.59.51 0 1.02-.2 1.41-.59l7.78-7.78 2.81-2.81c.8-.78.8-2.07 0-2.86zM5.41 20L4 18.59l7.72-7.72 1.47 1.35L5.41 20z\"/>\n",
              "  </svg>\n",
              "      </button>\n",
              "      \n",
              "  <style>\n",
              "    .colab-df-container {\n",
              "      display:flex;\n",
              "      flex-wrap:wrap;\n",
              "      gap: 12px;\n",
              "    }\n",
              "\n",
              "    .colab-df-convert {\n",
              "      background-color: #E8F0FE;\n",
              "      border: none;\n",
              "      border-radius: 50%;\n",
              "      cursor: pointer;\n",
              "      display: none;\n",
              "      fill: #1967D2;\n",
              "      height: 32px;\n",
              "      padding: 0 0 0 0;\n",
              "      width: 32px;\n",
              "    }\n",
              "\n",
              "    .colab-df-convert:hover {\n",
              "      background-color: #E2EBFA;\n",
              "      box-shadow: 0px 1px 2px rgba(60, 64, 67, 0.3), 0px 1px 3px 1px rgba(60, 64, 67, 0.15);\n",
              "      fill: #174EA6;\n",
              "    }\n",
              "\n",
              "    [theme=dark] .colab-df-convert {\n",
              "      background-color: #3B4455;\n",
              "      fill: #D2E3FC;\n",
              "    }\n",
              "\n",
              "    [theme=dark] .colab-df-convert:hover {\n",
              "      background-color: #434B5C;\n",
              "      box-shadow: 0px 1px 3px 1px rgba(0, 0, 0, 0.15);\n",
              "      filter: drop-shadow(0px 1px 2px rgba(0, 0, 0, 0.3));\n",
              "      fill: #FFFFFF;\n",
              "    }\n",
              "  </style>\n",
              "\n",
              "      <script>\n",
              "        const buttonEl =\n",
              "          document.querySelector('#df-c2dc54df-64b6-4b1c-9084-d2f293465237 button.colab-df-convert');\n",
              "        buttonEl.style.display =\n",
              "          google.colab.kernel.accessAllowed ? 'block' : 'none';\n",
              "\n",
              "        async function convertToInteractive(key) {\n",
              "          const element = document.querySelector('#df-c2dc54df-64b6-4b1c-9084-d2f293465237');\n",
              "          const dataTable =\n",
              "            await google.colab.kernel.invokeFunction('convertToInteractive',\n",
              "                                                     [key], {});\n",
              "          if (!dataTable) return;\n",
              "\n",
              "          const docLinkHtml = 'Like what you see? Visit the ' +\n",
              "            '<a target=\"_blank\" href=https://colab.research.google.com/notebooks/data_table.ipynb>data table notebook</a>'\n",
              "            + ' to learn more about interactive tables.';\n",
              "          element.innerHTML = '';\n",
              "          dataTable['output_type'] = 'display_data';\n",
              "          await google.colab.output.renderOutput(dataTable, element);\n",
              "          const docLink = document.createElement('div');\n",
              "          docLink.innerHTML = docLinkHtml;\n",
              "          element.appendChild(docLink);\n",
              "        }\n",
              "      </script>\n",
              "    </div>\n",
              "  </div>\n",
              "  "
            ]
          },
          "metadata": {},
          "execution_count": 28
        }
      ]
    },
    {
      "cell_type": "markdown",
      "metadata": {
        "id": "viZEnuxQmsIA"
      },
      "source": [
        "## Sentiment Analysis"
      ]
    },
    {
      "cell_type": "markdown",
      "source": [
        "I follow a supervised, pre-trained, neural network model based on RoBERTa for unstructured text analysis and text mining methods that classifies tweet sentiment into positive, neutral and negative and analyses the intensity of the emotion giving the different emotion a score between 0 and 1."
      ],
      "metadata": {
        "id": "wiiN8VT2ja8b"
      }
    },
    {
      "cell_type": "code",
      "execution_count": null,
      "metadata": {
        "id": "qd1N-dTUBxtQ"
      },
      "outputs": [],
      "source": [
        "!pip3 install transformers"
      ]
    },
    {
      "cell_type": "code",
      "execution_count": null,
      "metadata": {
        "id": "CuyeGk0g6EhG"
      },
      "outputs": [],
      "source": [
        "from transformers import pipeline"
      ]
    },
    {
      "cell_type": "code",
      "execution_count": null,
      "metadata": {
        "id": "j9M1f4IO6GJl"
      },
      "outputs": [],
      "source": [
        "classifier = pipeline(\"text-classification\", model=\"j-hartmann/sentiment-roberta-large-english-3-classes\", return_all_scores=True)"
      ]
    },
    {
      "cell_type": "code",
      "execution_count": null,
      "metadata": {
        "id": "Aw7-xe8niFT_"
      },
      "outputs": [],
      "source": [
        "tweet_df = pd.read_csv('/content/drive/MyDrive/MADSThesis_Alejandro/only_twitter_df.csv')"
      ]
    },
    {
      "cell_type": "code",
      "source": [
        "compare = pd.read_csv('/content/drive/MyDrive/MADSThesis_Alejandro/only_twitter_df.csv')"
      ],
      "metadata": {
        "id": "WmaG-qrsLUBZ"
      },
      "execution_count": null,
      "outputs": []
    },
    {
      "cell_type": "code",
      "source": [
        "tweet_df = pd.read_csv('/content/drive/MyDrive/MADSThesis_Alejandro/sentiment_events2.csv')"
      ],
      "metadata": {
        "id": "hG5zQCqvLJw0"
      },
      "execution_count": null,
      "outputs": []
    },
    {
      "cell_type": "code",
      "source": [
        "compare"
      ],
      "metadata": {
        "id": "yxxWy5CALYR3"
      },
      "execution_count": null,
      "outputs": []
    },
    {
      "cell_type": "code",
      "source": [
        "tweet_df"
      ],
      "metadata": {
        "id": "dHoc10NnLfYQ"
      },
      "execution_count": null,
      "outputs": []
    },
    {
      "cell_type": "code",
      "execution_count": null,
      "metadata": {
        "colab": {
          "base_uri": "https://localhost:8080/"
        },
        "id": "nwUmQbf5HjJg",
        "outputId": "4c0931b7-82a1-4cf5-b33e-c3da845b569e"
      },
      "outputs": [
        {
          "output_type": "execute_result",
          "data": {
            "text/plain": [
              "85939"
            ]
          },
          "metadata": {},
          "execution_count": 8
        }
      ],
      "source": [
        "len(tweet_df)#86024"
      ]
    },
    {
      "cell_type": "code",
      "execution_count": null,
      "metadata": {
        "id": "eHX0jzrekDzG",
        "colab": {
          "base_uri": "https://localhost:8080/",
          "height": 621
        },
        "outputId": "e2390c72-acb7-48a9-f483-105713f15ac4"
      },
      "outputs": [
        {
          "output_type": "execute_result",
          "data": {
            "text/plain": [
              "     AssetName                   Datetime      Tweet Id  \\\n",
              "7700       Bag  2012-11-03 17:13:01+00:00  2.647772e+17   \n",
              "7701       Bag  2012-07-18 19:46:56+00:00  2.256781e+17   \n",
              "7702       Bag  2012-03-31 06:04:47+00:00  1.859709e+17   \n",
              "7703   Ballman  2022-06-02 10:56:49+00:00  1.532315e+18   \n",
              "7704   Ballman  2022-06-01 20:04:44+00:00  1.532091e+18   \n",
              "...        ...                        ...           ...   \n",
              "7995      Bean  2022-03-06 12:34:06+00:00  1.500450e+18   \n",
              "7996      Bean  2022-03-06 11:52:12+00:00  1.500439e+18   \n",
              "7997      Bean  2022-03-06 07:14:36+00:00  1.500369e+18   \n",
              "7998      Bean  2022-03-06 04:48:53+00:00  1.500333e+18   \n",
              "7999      Bean  2022-03-06 03:57:38+00:00  1.500320e+18   \n",
              "\n",
              "                                                   Text         Username  \\\n",
              "7700  @Carmela_Fortuna nga pala... That's why ur cal...        nft_garci   \n",
              "7701  @tarawoodward17 Ergh nellie #regret #antibacte...   NFT_PROMOTERRR   \n",
              "7702  Somebody once asked me \"what's in your #bag?\" ...          jsf_eth   \n",
              "7703  Refresh to @ballmanproject dashboard with some...    KresimirDivic   \n",
              "7704  Our wednesday Spaces are a must!! \\nToday talk...          Shxeila   \n",
              "...                                                 ...              ...   \n",
              "7995  #sproutie #metaverse #nftgame #nft #bean https...      athayatonda   \n",
              "7996  #sproutie #metaverse #nftgame #nft #bean https...    KafeelZhafran   \n",
              "7997  #sproutie #metaverse #nftgame #nft #bean https...    kinghunter091   \n",
              "7998  #sproutie #metaverse #nftgame #nft #bean https...     novie_talita   \n",
              "7999  Looks like One of the best project.Very strong...  Shabbir45227495   \n",
              "\n",
              "      Retweets  Replies  Likes  Followers  Favourites  Negative  Neutral  \\\n",
              "7700       0.0      0.0    0.0     1019.0     26731.0       0.0      0.0   \n",
              "7701       0.0      1.0    0.0     6610.0       122.0       0.0      0.0   \n",
              "7702       0.0      0.0    0.0      423.0      6209.0       0.0      0.0   \n",
              "7703       5.0      0.0   11.0      707.0      8580.0       0.0      0.0   \n",
              "7704       0.0      0.0    2.0      440.0     51983.0       0.0      0.0   \n",
              "...        ...      ...    ...        ...         ...       ...      ...   \n",
              "7995       0.0      2.0    0.0    13099.0      7950.0       0.0      0.0   \n",
              "7996       0.0      0.0    0.0    18976.0     16764.0       0.0      0.0   \n",
              "7997       0.0      1.0    0.0     2343.0     50272.0       0.0      0.0   \n",
              "7998       0.0      0.0    0.0     2091.0     11080.0       0.0      0.0   \n",
              "7999       0.0      0.0    1.0     3140.0     16327.0       0.0      0.0   \n",
              "\n",
              "      Positive  \n",
              "7700       0.0  \n",
              "7701       0.0  \n",
              "7702       0.0  \n",
              "7703       0.0  \n",
              "7704       0.0  \n",
              "...        ...  \n",
              "7995       0.0  \n",
              "7996       0.0  \n",
              "7997       0.0  \n",
              "7998       0.0  \n",
              "7999       0.0  \n",
              "\n",
              "[300 rows x 13 columns]"
            ],
            "text/html": [
              "\n",
              "  <div id=\"df-d74459b9-f62c-4cb2-8898-57cc2ee59d7f\">\n",
              "    <div class=\"colab-df-container\">\n",
              "      <div>\n",
              "<style scoped>\n",
              "    .dataframe tbody tr th:only-of-type {\n",
              "        vertical-align: middle;\n",
              "    }\n",
              "\n",
              "    .dataframe tbody tr th {\n",
              "        vertical-align: top;\n",
              "    }\n",
              "\n",
              "    .dataframe thead th {\n",
              "        text-align: right;\n",
              "    }\n",
              "</style>\n",
              "<table border=\"1\" class=\"dataframe\">\n",
              "  <thead>\n",
              "    <tr style=\"text-align: right;\">\n",
              "      <th></th>\n",
              "      <th>AssetName</th>\n",
              "      <th>Datetime</th>\n",
              "      <th>Tweet Id</th>\n",
              "      <th>Text</th>\n",
              "      <th>Username</th>\n",
              "      <th>Retweets</th>\n",
              "      <th>Replies</th>\n",
              "      <th>Likes</th>\n",
              "      <th>Followers</th>\n",
              "      <th>Favourites</th>\n",
              "      <th>Negative</th>\n",
              "      <th>Neutral</th>\n",
              "      <th>Positive</th>\n",
              "    </tr>\n",
              "  </thead>\n",
              "  <tbody>\n",
              "    <tr>\n",
              "      <th>7700</th>\n",
              "      <td>Bag</td>\n",
              "      <td>2012-11-03 17:13:01+00:00</td>\n",
              "      <td>2.647772e+17</td>\n",
              "      <td>@Carmela_Fortuna nga pala... That's why ur cal...</td>\n",
              "      <td>nft_garci</td>\n",
              "      <td>0.0</td>\n",
              "      <td>0.0</td>\n",
              "      <td>0.0</td>\n",
              "      <td>1019.0</td>\n",
              "      <td>26731.0</td>\n",
              "      <td>0.0</td>\n",
              "      <td>0.0</td>\n",
              "      <td>0.0</td>\n",
              "    </tr>\n",
              "    <tr>\n",
              "      <th>7701</th>\n",
              "      <td>Bag</td>\n",
              "      <td>2012-07-18 19:46:56+00:00</td>\n",
              "      <td>2.256781e+17</td>\n",
              "      <td>@tarawoodward17 Ergh nellie #regret #antibacte...</td>\n",
              "      <td>NFT_PROMOTERRR</td>\n",
              "      <td>0.0</td>\n",
              "      <td>1.0</td>\n",
              "      <td>0.0</td>\n",
              "      <td>6610.0</td>\n",
              "      <td>122.0</td>\n",
              "      <td>0.0</td>\n",
              "      <td>0.0</td>\n",
              "      <td>0.0</td>\n",
              "    </tr>\n",
              "    <tr>\n",
              "      <th>7702</th>\n",
              "      <td>Bag</td>\n",
              "      <td>2012-03-31 06:04:47+00:00</td>\n",
              "      <td>1.859709e+17</td>\n",
              "      <td>Somebody once asked me \"what's in your #bag?\" ...</td>\n",
              "      <td>jsf_eth</td>\n",
              "      <td>0.0</td>\n",
              "      <td>0.0</td>\n",
              "      <td>0.0</td>\n",
              "      <td>423.0</td>\n",
              "      <td>6209.0</td>\n",
              "      <td>0.0</td>\n",
              "      <td>0.0</td>\n",
              "      <td>0.0</td>\n",
              "    </tr>\n",
              "    <tr>\n",
              "      <th>7703</th>\n",
              "      <td>Ballman</td>\n",
              "      <td>2022-06-02 10:56:49+00:00</td>\n",
              "      <td>1.532315e+18</td>\n",
              "      <td>Refresh to @ballmanproject dashboard with some...</td>\n",
              "      <td>KresimirDivic</td>\n",
              "      <td>5.0</td>\n",
              "      <td>0.0</td>\n",
              "      <td>11.0</td>\n",
              "      <td>707.0</td>\n",
              "      <td>8580.0</td>\n",
              "      <td>0.0</td>\n",
              "      <td>0.0</td>\n",
              "      <td>0.0</td>\n",
              "    </tr>\n",
              "    <tr>\n",
              "      <th>7704</th>\n",
              "      <td>Ballman</td>\n",
              "      <td>2022-06-01 20:04:44+00:00</td>\n",
              "      <td>1.532091e+18</td>\n",
              "      <td>Our wednesday Spaces are a must!! \\nToday talk...</td>\n",
              "      <td>Shxeila</td>\n",
              "      <td>0.0</td>\n",
              "      <td>0.0</td>\n",
              "      <td>2.0</td>\n",
              "      <td>440.0</td>\n",
              "      <td>51983.0</td>\n",
              "      <td>0.0</td>\n",
              "      <td>0.0</td>\n",
              "      <td>0.0</td>\n",
              "    </tr>\n",
              "    <tr>\n",
              "      <th>...</th>\n",
              "      <td>...</td>\n",
              "      <td>...</td>\n",
              "      <td>...</td>\n",
              "      <td>...</td>\n",
              "      <td>...</td>\n",
              "      <td>...</td>\n",
              "      <td>...</td>\n",
              "      <td>...</td>\n",
              "      <td>...</td>\n",
              "      <td>...</td>\n",
              "      <td>...</td>\n",
              "      <td>...</td>\n",
              "      <td>...</td>\n",
              "    </tr>\n",
              "    <tr>\n",
              "      <th>7995</th>\n",
              "      <td>Bean</td>\n",
              "      <td>2022-03-06 12:34:06+00:00</td>\n",
              "      <td>1.500450e+18</td>\n",
              "      <td>#sproutie #metaverse #nftgame #nft #bean https...</td>\n",
              "      <td>athayatonda</td>\n",
              "      <td>0.0</td>\n",
              "      <td>2.0</td>\n",
              "      <td>0.0</td>\n",
              "      <td>13099.0</td>\n",
              "      <td>7950.0</td>\n",
              "      <td>0.0</td>\n",
              "      <td>0.0</td>\n",
              "      <td>0.0</td>\n",
              "    </tr>\n",
              "    <tr>\n",
              "      <th>7996</th>\n",
              "      <td>Bean</td>\n",
              "      <td>2022-03-06 11:52:12+00:00</td>\n",
              "      <td>1.500439e+18</td>\n",
              "      <td>#sproutie #metaverse #nftgame #nft #bean https...</td>\n",
              "      <td>KafeelZhafran</td>\n",
              "      <td>0.0</td>\n",
              "      <td>0.0</td>\n",
              "      <td>0.0</td>\n",
              "      <td>18976.0</td>\n",
              "      <td>16764.0</td>\n",
              "      <td>0.0</td>\n",
              "      <td>0.0</td>\n",
              "      <td>0.0</td>\n",
              "    </tr>\n",
              "    <tr>\n",
              "      <th>7997</th>\n",
              "      <td>Bean</td>\n",
              "      <td>2022-03-06 07:14:36+00:00</td>\n",
              "      <td>1.500369e+18</td>\n",
              "      <td>#sproutie #metaverse #nftgame #nft #bean https...</td>\n",
              "      <td>kinghunter091</td>\n",
              "      <td>0.0</td>\n",
              "      <td>1.0</td>\n",
              "      <td>0.0</td>\n",
              "      <td>2343.0</td>\n",
              "      <td>50272.0</td>\n",
              "      <td>0.0</td>\n",
              "      <td>0.0</td>\n",
              "      <td>0.0</td>\n",
              "    </tr>\n",
              "    <tr>\n",
              "      <th>7998</th>\n",
              "      <td>Bean</td>\n",
              "      <td>2022-03-06 04:48:53+00:00</td>\n",
              "      <td>1.500333e+18</td>\n",
              "      <td>#sproutie #metaverse #nftgame #nft #bean https...</td>\n",
              "      <td>novie_talita</td>\n",
              "      <td>0.0</td>\n",
              "      <td>0.0</td>\n",
              "      <td>0.0</td>\n",
              "      <td>2091.0</td>\n",
              "      <td>11080.0</td>\n",
              "      <td>0.0</td>\n",
              "      <td>0.0</td>\n",
              "      <td>0.0</td>\n",
              "    </tr>\n",
              "    <tr>\n",
              "      <th>7999</th>\n",
              "      <td>Bean</td>\n",
              "      <td>2022-03-06 03:57:38+00:00</td>\n",
              "      <td>1.500320e+18</td>\n",
              "      <td>Looks like One of the best project.Very strong...</td>\n",
              "      <td>Shabbir45227495</td>\n",
              "      <td>0.0</td>\n",
              "      <td>0.0</td>\n",
              "      <td>1.0</td>\n",
              "      <td>3140.0</td>\n",
              "      <td>16327.0</td>\n",
              "      <td>0.0</td>\n",
              "      <td>0.0</td>\n",
              "      <td>0.0</td>\n",
              "    </tr>\n",
              "  </tbody>\n",
              "</table>\n",
              "<p>300 rows × 13 columns</p>\n",
              "</div>\n",
              "      <button class=\"colab-df-convert\" onclick=\"convertToInteractive('df-d74459b9-f62c-4cb2-8898-57cc2ee59d7f')\"\n",
              "              title=\"Convert this dataframe to an interactive table.\"\n",
              "              style=\"display:none;\">\n",
              "        \n",
              "  <svg xmlns=\"http://www.w3.org/2000/svg\" height=\"24px\"viewBox=\"0 0 24 24\"\n",
              "       width=\"24px\">\n",
              "    <path d=\"M0 0h24v24H0V0z\" fill=\"none\"/>\n",
              "    <path d=\"M18.56 5.44l.94 2.06.94-2.06 2.06-.94-2.06-.94-.94-2.06-.94 2.06-2.06.94zm-11 1L8.5 8.5l.94-2.06 2.06-.94-2.06-.94L8.5 2.5l-.94 2.06-2.06.94zm10 10l.94 2.06.94-2.06 2.06-.94-2.06-.94-.94-2.06-.94 2.06-2.06.94z\"/><path d=\"M17.41 7.96l-1.37-1.37c-.4-.4-.92-.59-1.43-.59-.52 0-1.04.2-1.43.59L10.3 9.45l-7.72 7.72c-.78.78-.78 2.05 0 2.83L4 21.41c.39.39.9.59 1.41.59.51 0 1.02-.2 1.41-.59l7.78-7.78 2.81-2.81c.8-.78.8-2.07 0-2.86zM5.41 20L4 18.59l7.72-7.72 1.47 1.35L5.41 20z\"/>\n",
              "  </svg>\n",
              "      </button>\n",
              "      \n",
              "  <style>\n",
              "    .colab-df-container {\n",
              "      display:flex;\n",
              "      flex-wrap:wrap;\n",
              "      gap: 12px;\n",
              "    }\n",
              "\n",
              "    .colab-df-convert {\n",
              "      background-color: #E8F0FE;\n",
              "      border: none;\n",
              "      border-radius: 50%;\n",
              "      cursor: pointer;\n",
              "      display: none;\n",
              "      fill: #1967D2;\n",
              "      height: 32px;\n",
              "      padding: 0 0 0 0;\n",
              "      width: 32px;\n",
              "    }\n",
              "\n",
              "    .colab-df-convert:hover {\n",
              "      background-color: #E2EBFA;\n",
              "      box-shadow: 0px 1px 2px rgba(60, 64, 67, 0.3), 0px 1px 3px 1px rgba(60, 64, 67, 0.15);\n",
              "      fill: #174EA6;\n",
              "    }\n",
              "\n",
              "    [theme=dark] .colab-df-convert {\n",
              "      background-color: #3B4455;\n",
              "      fill: #D2E3FC;\n",
              "    }\n",
              "\n",
              "    [theme=dark] .colab-df-convert:hover {\n",
              "      background-color: #434B5C;\n",
              "      box-shadow: 0px 1px 3px 1px rgba(0, 0, 0, 0.15);\n",
              "      filter: drop-shadow(0px 1px 2px rgba(0, 0, 0, 0.3));\n",
              "      fill: #FFFFFF;\n",
              "    }\n",
              "  </style>\n",
              "\n",
              "      <script>\n",
              "        const buttonEl =\n",
              "          document.querySelector('#df-d74459b9-f62c-4cb2-8898-57cc2ee59d7f button.colab-df-convert');\n",
              "        buttonEl.style.display =\n",
              "          google.colab.kernel.accessAllowed ? 'block' : 'none';\n",
              "\n",
              "        async function convertToInteractive(key) {\n",
              "          const element = document.querySelector('#df-d74459b9-f62c-4cb2-8898-57cc2ee59d7f');\n",
              "          const dataTable =\n",
              "            await google.colab.kernel.invokeFunction('convertToInteractive',\n",
              "                                                     [key], {});\n",
              "          if (!dataTable) return;\n",
              "\n",
              "          const docLinkHtml = 'Like what you see? Visit the ' +\n",
              "            '<a target=\"_blank\" href=https://colab.research.google.com/notebooks/data_table.ipynb>data table notebook</a>'\n",
              "            + ' to learn more about interactive tables.';\n",
              "          element.innerHTML = '';\n",
              "          dataTable['output_type'] = 'display_data';\n",
              "          await google.colab.output.renderOutput(dataTable, element);\n",
              "          const docLink = document.createElement('div');\n",
              "          docLink.innerHTML = docLinkHtml;\n",
              "          element.appendChild(docLink);\n",
              "        }\n",
              "      </script>\n",
              "    </div>\n",
              "  </div>\n",
              "  "
            ]
          },
          "metadata": {},
          "execution_count": 15
        }
      ],
      "source": [
        "tweet_df.iloc[7700:8000]"
      ]
    },
    {
      "cell_type": "code",
      "execution_count": null,
      "metadata": {
        "id": "e4X5YUtwvQET"
      },
      "outputs": [],
      "source": [
        "tweet_df = tweet_df.drop(range(0,85))"
      ]
    },
    {
      "cell_type": "code",
      "execution_count": null,
      "metadata": {
        "id": "Pe-LNbMWtBHy"
      },
      "outputs": [],
      "source": [
        "tweet_df.head()"
      ]
    },
    {
      "cell_type": "code",
      "execution_count": null,
      "metadata": {
        "id": "FZC0SDEPCPD0"
      },
      "outputs": [],
      "source": [
        "list_tweets = tweet_df['Text'].tolist()\n",
        "list_tweets"
      ]
    },
    {
      "cell_type": "code",
      "execution_count": null,
      "metadata": {
        "id": "Jv3p_SQNu941"
      },
      "outputs": [],
      "source": [
        "#RUN IT ONLY ONCE\n",
        "tweet_df['Negative'] = [0]*len(tweet_df)\n",
        "tweet_df['Neutral'] = [0]*len(tweet_df)\n",
        "tweet_df['Positive'] = [0]*len(tweet_df) #creating list that we'll later fill up"
      ]
    },
    {
      "cell_type": "code",
      "execution_count": null,
      "metadata": {
        "id": "Hvkbg2mTENXA"
      },
      "outputs": [],
      "source": [
        "for i,row in (tweet_df.iloc[10000:15000].iterrows()):\n",
        "  #asset_name = row['AssetName']\n",
        "  text = row[\"Text\"]\n",
        "  #print('{i}-----{asset_name}-----'.format(i=i,asset_name=asset_name))\n",
        "  #print(text)\n",
        "  sentiments = classifier(text)\n",
        "  tweet_df['Negative'].loc[i] = sentiments[0][0]['score']\n",
        "  tweet_df['Neutral'].loc[i] = sentiments[0][1]['score']\n",
        "  tweet_df['Positive'].loc[i] = sentiments[0][2]['score']\n",
        "\n",
        "tweet_df.to_csv('/content/drive/MyDrive/MADSThesis_Alejandro/sentiment_events2.csv',index=False)\n"
      ]
    },
    {
      "cell_type": "code",
      "source": [
        "tweet_df[9980:10000]"
      ],
      "metadata": {
        "id": "Co7xSg8b9U0B"
      },
      "execution_count": null,
      "outputs": []
    },
    {
      "cell_type": "code",
      "source": [
        "tweet_df.to_csv('/content/drive/MyDrive/MADSThesis_Alejandro/sentiment_events3.csv',index=False)"
      ],
      "metadata": {
        "id": "eclzjdDzJ8qC"
      },
      "execution_count": null,
      "outputs": []
    },
    {
      "cell_type": "code",
      "execution_count": null,
      "metadata": {
        "id": "kk1C8_RblR_z"
      },
      "outputs": [],
      "source": [
        "tweet_df.iloc[7000:8000]"
      ]
    },
    {
      "cell_type": "code",
      "execution_count": null,
      "metadata": {
        "id": "5sHPvu45G_6r"
      },
      "outputs": [],
      "source": [
        "tweet_df.to_csv('/content/drive/MyDrive/MADSThesis_Alejandro/sentiment_events3.csv',index=False)"
      ]
    },
    {
      "cell_type": "markdown",
      "metadata": {
        "id": "pXYQ9x35mv4x"
      },
      "source": [
        "##Final Dataset - Merging Twitter and OpenSea Data"
      ]
    },
    {
      "cell_type": "code",
      "execution_count": null,
      "metadata": {
        "colab": {
          "base_uri": "https://localhost:8080/",
          "height": 411
        },
        "id": "IjFWSZDuMtkI",
        "outputId": "4a393daf-a52b-4ac8-92af-83872c3890fd"
      },
      "outputs": [
        {
          "data": {
            "text/html": [
              "\n",
              "  <div id=\"df-f42bc5dd-4ce1-41c4-8414-75100f23a07c\">\n",
              "    <div class=\"colab-df-container\">\n",
              "      <div>\n",
              "<style scoped>\n",
              "    .dataframe tbody tr th:only-of-type {\n",
              "        vertical-align: middle;\n",
              "    }\n",
              "\n",
              "    .dataframe tbody tr th {\n",
              "        vertical-align: top;\n",
              "    }\n",
              "\n",
              "    .dataframe thead th {\n",
              "        text-align: right;\n",
              "    }\n",
              "</style>\n",
              "<table border=\"1\" class=\"dataframe\">\n",
              "  <thead>\n",
              "    <tr style=\"text-align: right;\">\n",
              "      <th></th>\n",
              "      <th>AssetName</th>\n",
              "      <th>Datetime</th>\n",
              "      <th>Tweet Id</th>\n",
              "      <th>Text</th>\n",
              "      <th>Username</th>\n",
              "      <th>Negative</th>\n",
              "      <th>Neutral</th>\n",
              "      <th>Positive</th>\n",
              "    </tr>\n",
              "  </thead>\n",
              "  <tbody>\n",
              "    <tr>\n",
              "      <th>0</th>\n",
              "      <td>ALI</td>\n",
              "      <td>2022-05-31 19:10:38+00:00</td>\n",
              "      <td>1531714790296588289</td>\n",
              "      <td>BOOM!!!! I got me a SICK ALI @MuhammadAli #ali...</td>\n",
              "      <td>FrankKnuckles3</td>\n",
              "      <td>0.000217</td>\n",
              "      <td>0.014742</td>\n",
              "      <td>0.985041</td>\n",
              "    </tr>\n",
              "    <tr>\n",
              "      <th>1</th>\n",
              "      <td>ALI</td>\n",
              "      <td>2022-05-28 14:11:55+00:00</td>\n",
              "      <td>1530552452646174721</td>\n",
              "      <td>.0029 etc for this (8) 1/1s collection this we...</td>\n",
              "      <td>famousmoonking</td>\n",
              "      <td>0.000259</td>\n",
              "      <td>0.998367</td>\n",
              "      <td>0.001374</td>\n",
              "    </tr>\n",
              "    <tr>\n",
              "      <th>2</th>\n",
              "      <td>ALI</td>\n",
              "      <td>2022-05-26 23:03:16+00:00</td>\n",
              "      <td>1529961393222344704</td>\n",
              "      <td>24 hour pre #MemorialDaySale!!!\\n #crypto shri...</td>\n",
              "      <td>famousmoonking</td>\n",
              "      <td>0.000584</td>\n",
              "      <td>0.930651</td>\n",
              "      <td>0.068765</td>\n",
              "    </tr>\n",
              "    <tr>\n",
              "      <th>3</th>\n",
              "      <td>ALI</td>\n",
              "      <td>2022-05-20 14:46:16+00:00</td>\n",
              "      <td>1527661994895020034</td>\n",
              "      <td>hi.\\n8 of these @ .01 each for the weekend.\\nI...</td>\n",
              "      <td>famousmoonking</td>\n",
              "      <td>0.000171</td>\n",
              "      <td>0.998158</td>\n",
              "      <td>0.001671</td>\n",
              "    </tr>\n",
              "    <tr>\n",
              "      <th>4</th>\n",
              "      <td>ALI</td>\n",
              "      <td>2022-05-10 03:46:15+00:00</td>\n",
              "      <td>1523872016410898432</td>\n",
              "      <td>Limited edition of 9 hand made 1/1 Ali post ca...</td>\n",
              "      <td>famousmoonking</td>\n",
              "      <td>0.000234</td>\n",
              "      <td>0.998247</td>\n",
              "      <td>0.001519</td>\n",
              "    </tr>\n",
              "    <tr>\n",
              "      <th>...</th>\n",
              "      <td>...</td>\n",
              "      <td>...</td>\n",
              "      <td>...</td>\n",
              "      <td>...</td>\n",
              "      <td>...</td>\n",
              "      <td>...</td>\n",
              "      <td>...</td>\n",
              "      <td>...</td>\n",
              "    </tr>\n",
              "    <tr>\n",
              "      <th>2011</th>\n",
              "      <td>CapybarasCountryClub</td>\n",
              "      <td>2022-02-27 21:56:10+00:00</td>\n",
              "      <td>1498054378342735875</td>\n",
              "      <td>My most recent #fanart for #capybarascountrycl...</td>\n",
              "      <td>hxrnyNFT</td>\n",
              "      <td>0.000148</td>\n",
              "      <td>0.997976</td>\n",
              "      <td>0.001876</td>\n",
              "    </tr>\n",
              "    <tr>\n",
              "      <th>2012</th>\n",
              "      <td>CapybarasCountryClub</td>\n",
              "      <td>2022-01-07 22:24:59+00:00</td>\n",
              "      <td>1479579847991205894</td>\n",
              "      <td>Do you like what you have seen so far? 👀🔥\\n\\n#...</td>\n",
              "      <td>CapybarasCC</td>\n",
              "      <td>0.000165</td>\n",
              "      <td>0.001351</td>\n",
              "      <td>0.998484</td>\n",
              "    </tr>\n",
              "    <tr>\n",
              "      <th>2013</th>\n",
              "      <td>CapybarasCountryClub</td>\n",
              "      <td>2022-01-07 11:13:52+00:00</td>\n",
              "      <td>1479410953947164674</td>\n",
              "      <td>I love to see our community growing organicall...</td>\n",
              "      <td>CapybarasCC</td>\n",
              "      <td>0.000128</td>\n",
              "      <td>0.001793</td>\n",
              "      <td>0.998079</td>\n",
              "    </tr>\n",
              "    <tr>\n",
              "      <th>2014</th>\n",
              "      <td>CapybarasCountryClub</td>\n",
              "      <td>2022-01-06 08:14:47+00:00</td>\n",
              "      <td>1479003498104725507</td>\n",
              "      <td>GM !!! \\n\\nNew day, new banner ! \\n\\nOG roles ...</td>\n",
              "      <td>CapybarasCC</td>\n",
              "      <td>0.000188</td>\n",
              "      <td>0.996583</td>\n",
              "      <td>0.003230</td>\n",
              "    </tr>\n",
              "    <tr>\n",
              "      <th>2015</th>\n",
              "      <td>CapybarasCountryClub</td>\n",
              "      <td>2022-01-05 18:28:46+00:00</td>\n",
              "      <td>1478795624921378822</td>\n",
              "      <td>Come to our Discord server and say \"Hi👋\" to cl...</td>\n",
              "      <td>CapybarasCC</td>\n",
              "      <td>0.000796</td>\n",
              "      <td>0.120031</td>\n",
              "      <td>0.879174</td>\n",
              "    </tr>\n",
              "  </tbody>\n",
              "</table>\n",
              "<p>2016 rows × 8 columns</p>\n",
              "</div>\n",
              "      <button class=\"colab-df-convert\" onclick=\"convertToInteractive('df-f42bc5dd-4ce1-41c4-8414-75100f23a07c')\"\n",
              "              title=\"Convert this dataframe to an interactive table.\"\n",
              "              style=\"display:none;\">\n",
              "        \n",
              "  <svg xmlns=\"http://www.w3.org/2000/svg\" height=\"24px\"viewBox=\"0 0 24 24\"\n",
              "       width=\"24px\">\n",
              "    <path d=\"M0 0h24v24H0V0z\" fill=\"none\"/>\n",
              "    <path d=\"M18.56 5.44l.94 2.06.94-2.06 2.06-.94-2.06-.94-.94-2.06-.94 2.06-2.06.94zm-11 1L8.5 8.5l.94-2.06 2.06-.94-2.06-.94L8.5 2.5l-.94 2.06-2.06.94zm10 10l.94 2.06.94-2.06 2.06-.94-2.06-.94-.94-2.06-.94 2.06-2.06.94z\"/><path d=\"M17.41 7.96l-1.37-1.37c-.4-.4-.92-.59-1.43-.59-.52 0-1.04.2-1.43.59L10.3 9.45l-7.72 7.72c-.78.78-.78 2.05 0 2.83L4 21.41c.39.39.9.59 1.41.59.51 0 1.02-.2 1.41-.59l7.78-7.78 2.81-2.81c.8-.78.8-2.07 0-2.86zM5.41 20L4 18.59l7.72-7.72 1.47 1.35L5.41 20z\"/>\n",
              "  </svg>\n",
              "      </button>\n",
              "      \n",
              "  <style>\n",
              "    .colab-df-container {\n",
              "      display:flex;\n",
              "      flex-wrap:wrap;\n",
              "      gap: 12px;\n",
              "    }\n",
              "\n",
              "    .colab-df-convert {\n",
              "      background-color: #E8F0FE;\n",
              "      border: none;\n",
              "      border-radius: 50%;\n",
              "      cursor: pointer;\n",
              "      display: none;\n",
              "      fill: #1967D2;\n",
              "      height: 32px;\n",
              "      padding: 0 0 0 0;\n",
              "      width: 32px;\n",
              "    }\n",
              "\n",
              "    .colab-df-convert:hover {\n",
              "      background-color: #E2EBFA;\n",
              "      box-shadow: 0px 1px 2px rgba(60, 64, 67, 0.3), 0px 1px 3px 1px rgba(60, 64, 67, 0.15);\n",
              "      fill: #174EA6;\n",
              "    }\n",
              "\n",
              "    [theme=dark] .colab-df-convert {\n",
              "      background-color: #3B4455;\n",
              "      fill: #D2E3FC;\n",
              "    }\n",
              "\n",
              "    [theme=dark] .colab-df-convert:hover {\n",
              "      background-color: #434B5C;\n",
              "      box-shadow: 0px 1px 3px 1px rgba(0, 0, 0, 0.15);\n",
              "      filter: drop-shadow(0px 1px 2px rgba(0, 0, 0, 0.3));\n",
              "      fill: #FFFFFF;\n",
              "    }\n",
              "  </style>\n",
              "\n",
              "      <script>\n",
              "        const buttonEl =\n",
              "          document.querySelector('#df-f42bc5dd-4ce1-41c4-8414-75100f23a07c button.colab-df-convert');\n",
              "        buttonEl.style.display =\n",
              "          google.colab.kernel.accessAllowed ? 'block' : 'none';\n",
              "\n",
              "        async function convertToInteractive(key) {\n",
              "          const element = document.querySelector('#df-f42bc5dd-4ce1-41c4-8414-75100f23a07c');\n",
              "          const dataTable =\n",
              "            await google.colab.kernel.invokeFunction('convertToInteractive',\n",
              "                                                     [key], {});\n",
              "          if (!dataTable) return;\n",
              "\n",
              "          const docLinkHtml = 'Like what you see? Visit the ' +\n",
              "            '<a target=\"_blank\" href=https://colab.research.google.com/notebooks/data_table.ipynb>data table notebook</a>'\n",
              "            + ' to learn more about interactive tables.';\n",
              "          element.innerHTML = '';\n",
              "          dataTable['output_type'] = 'display_data';\n",
              "          await google.colab.output.renderOutput(dataTable, element);\n",
              "          const docLink = document.createElement('div');\n",
              "          docLink.innerHTML = docLinkHtml;\n",
              "          element.appendChild(docLink);\n",
              "        }\n",
              "      </script>\n",
              "    </div>\n",
              "  </div>\n",
              "  "
            ],
            "text/plain": [
              "                 AssetName                  Datetime             Tweet Id  \\\n",
              "0                      ALI 2022-05-31 19:10:38+00:00  1531714790296588289   \n",
              "1                      ALI 2022-05-28 14:11:55+00:00  1530552452646174721   \n",
              "2                      ALI 2022-05-26 23:03:16+00:00  1529961393222344704   \n",
              "3                      ALI 2022-05-20 14:46:16+00:00  1527661994895020034   \n",
              "4                      ALI 2022-05-10 03:46:15+00:00  1523872016410898432   \n",
              "...                    ...                       ...                  ...   \n",
              "2011  CapybarasCountryClub 2022-02-27 21:56:10+00:00  1498054378342735875   \n",
              "2012  CapybarasCountryClub 2022-01-07 22:24:59+00:00  1479579847991205894   \n",
              "2013  CapybarasCountryClub 2022-01-07 11:13:52+00:00  1479410953947164674   \n",
              "2014  CapybarasCountryClub 2022-01-06 08:14:47+00:00  1479003498104725507   \n",
              "2015  CapybarasCountryClub 2022-01-05 18:28:46+00:00  1478795624921378822   \n",
              "\n",
              "                                                   Text        Username  \\\n",
              "0     BOOM!!!! I got me a SICK ALI @MuhammadAli #ali...  FrankKnuckles3   \n",
              "1     .0029 etc for this (8) 1/1s collection this we...  famousmoonking   \n",
              "2     24 hour pre #MemorialDaySale!!!\\n #crypto shri...  famousmoonking   \n",
              "3     hi.\\n8 of these @ .01 each for the weekend.\\nI...  famousmoonking   \n",
              "4     Limited edition of 9 hand made 1/1 Ali post ca...  famousmoonking   \n",
              "...                                                 ...             ...   \n",
              "2011  My most recent #fanart for #capybarascountrycl...        hxrnyNFT   \n",
              "2012  Do you like what you have seen so far? 👀🔥\\n\\n#...     CapybarasCC   \n",
              "2013  I love to see our community growing organicall...     CapybarasCC   \n",
              "2014  GM !!! \\n\\nNew day, new banner ! \\n\\nOG roles ...     CapybarasCC   \n",
              "2015  Come to our Discord server and say \"Hi👋\" to cl...     CapybarasCC   \n",
              "\n",
              "      Negative   Neutral  Positive  \n",
              "0     0.000217  0.014742  0.985041  \n",
              "1     0.000259  0.998367  0.001374  \n",
              "2     0.000584  0.930651  0.068765  \n",
              "3     0.000171  0.998158  0.001671  \n",
              "4     0.000234  0.998247  0.001519  \n",
              "...        ...       ...       ...  \n",
              "2011  0.000148  0.997976  0.001876  \n",
              "2012  0.000165  0.001351  0.998484  \n",
              "2013  0.000128  0.001793  0.998079  \n",
              "2014  0.000188  0.996583  0.003230  \n",
              "2015  0.000796  0.120031  0.879174  \n",
              "\n",
              "[2016 rows x 8 columns]"
            ]
          },
          "execution_count": 43,
          "metadata": {},
          "output_type": "execute_result"
        }
      ],
      "source": [
        "tweet_df"
      ]
    },
    {
      "cell_type": "code",
      "execution_count": null,
      "metadata": {
        "colab": {
          "base_uri": "https://localhost:8080/",
          "height": 411
        },
        "id": "7O40XyOalc9O",
        "outputId": "7e10505d-c16b-44e4-d83f-8ee4fa743a35"
      },
      "outputs": [
        {
          "data": {
            "text/html": [
              "\n",
              "  <div id=\"df-6fcf8c65-3f85-4a3b-9b34-879cd014c75f\">\n",
              "    <div class=\"colab-df-container\">\n",
              "      <div>\n",
              "<style scoped>\n",
              "    .dataframe tbody tr th:only-of-type {\n",
              "        vertical-align: middle;\n",
              "    }\n",
              "\n",
              "    .dataframe tbody tr th {\n",
              "        vertical-align: top;\n",
              "    }\n",
              "\n",
              "    .dataframe thead th {\n",
              "        text-align: right;\n",
              "    }\n",
              "</style>\n",
              "<table border=\"1\" class=\"dataframe\">\n",
              "  <thead>\n",
              "    <tr style=\"text-align: right;\">\n",
              "      <th></th>\n",
              "      <th>asset.name</th>\n",
              "      <th>collection_slug</th>\n",
              "      <th>total_price</th>\n",
              "      <th>quantity</th>\n",
              "      <th>asset.num_sales</th>\n",
              "      <th>payment_token.usd_price</th>\n",
              "      <th>total_price_usd</th>\n",
              "    </tr>\n",
              "  </thead>\n",
              "  <tbody>\n",
              "    <tr>\n",
              "      <th>86</th>\n",
              "      <td>AKCredit</td>\n",
              "      <td>a0k1verse-credits</td>\n",
              "      <td>1.68900</td>\n",
              "      <td>7</td>\n",
              "      <td>8800.0</td>\n",
              "      <td>7901.61</td>\n",
              "      <td>3336.289330</td>\n",
              "    </tr>\n",
              "    <tr>\n",
              "      <th>87</th>\n",
              "      <td>ALI</td>\n",
              "      <td>alinft-official</td>\n",
              "      <td>0.75900</td>\n",
              "      <td>4</td>\n",
              "      <td>20.0</td>\n",
              "      <td>7901.08</td>\n",
              "      <td>1499.229930</td>\n",
              "    </tr>\n",
              "    <tr>\n",
              "      <th>88</th>\n",
              "      <td>ALPACADABRAD</td>\n",
              "      <td>alpacadabraz-3d</td>\n",
              "      <td>0.28700</td>\n",
              "      <td>1</td>\n",
              "      <td>1.0</td>\n",
              "      <td>1975.27</td>\n",
              "      <td>566.902490</td>\n",
              "    </tr>\n",
              "    <tr>\n",
              "      <th>89</th>\n",
              "      <td>AMBIVERT</td>\n",
              "      <td>carmeljenkinart</td>\n",
              "      <td>0.10000</td>\n",
              "      <td>1</td>\n",
              "      <td>1.0</td>\n",
              "      <td>1975.27</td>\n",
              "      <td>197.527000</td>\n",
              "    </tr>\n",
              "    <tr>\n",
              "      <th>90</th>\n",
              "      <td>AOArtBall</td>\n",
              "      <td>ao-art-ball</td>\n",
              "      <td>2.64359</td>\n",
              "      <td>13</td>\n",
              "      <td>21.0</td>\n",
              "      <td>25678.51</td>\n",
              "      <td>5221.804019</td>\n",
              "    </tr>\n",
              "    <tr>\n",
              "      <th>...</th>\n",
              "      <td>...</td>\n",
              "      <td>...</td>\n",
              "      <td>...</td>\n",
              "      <td>...</td>\n",
              "      <td>...</td>\n",
              "      <td>...</td>\n",
              "      <td>...</td>\n",
              "    </tr>\n",
              "    <tr>\n",
              "      <th>280</th>\n",
              "      <td>CameraPerson</td>\n",
              "      <td>camera-person-nft</td>\n",
              "      <td>0.07800</td>\n",
              "      <td>2</td>\n",
              "      <td>2.0</td>\n",
              "      <td>3950.54</td>\n",
              "      <td>154.071060</td>\n",
              "    </tr>\n",
              "    <tr>\n",
              "      <th>281</th>\n",
              "      <td>CandyHunter</td>\n",
              "      <td>candy-hunters</td>\n",
              "      <td>0.39700</td>\n",
              "      <td>6</td>\n",
              "      <td>13.0</td>\n",
              "      <td>11851.62</td>\n",
              "      <td>784.182190</td>\n",
              "    </tr>\n",
              "    <tr>\n",
              "      <th>282</th>\n",
              "      <td>CannonPlay</td>\n",
              "      <td>snapshots-of-sydney</td>\n",
              "      <td>0.10000</td>\n",
              "      <td>1</td>\n",
              "      <td>3.0</td>\n",
              "      <td>1975.27</td>\n",
              "      <td>197.527000</td>\n",
              "    </tr>\n",
              "    <tr>\n",
              "      <th>283</th>\n",
              "      <td>CapybarasCountryClub</td>\n",
              "      <td>capybarascountryclub</td>\n",
              "      <td>0.21780</td>\n",
              "      <td>4</td>\n",
              "      <td>6.0</td>\n",
              "      <td>7901.08</td>\n",
              "      <td>430.213806</td>\n",
              "    </tr>\n",
              "    <tr>\n",
              "      <th>284</th>\n",
              "      <td>CarbonFiberBike</td>\n",
              "      <td>thewalkingdeadofficialdarylmotorcycles</td>\n",
              "      <td>0.03400</td>\n",
              "      <td>1</td>\n",
              "      <td>1.0</td>\n",
              "      <td>1975.27</td>\n",
              "      <td>67.159180</td>\n",
              "    </tr>\n",
              "  </tbody>\n",
              "</table>\n",
              "<p>199 rows × 7 columns</p>\n",
              "</div>\n",
              "      <button class=\"colab-df-convert\" onclick=\"convertToInteractive('df-6fcf8c65-3f85-4a3b-9b34-879cd014c75f')\"\n",
              "              title=\"Convert this dataframe to an interactive table.\"\n",
              "              style=\"display:none;\">\n",
              "        \n",
              "  <svg xmlns=\"http://www.w3.org/2000/svg\" height=\"24px\"viewBox=\"0 0 24 24\"\n",
              "       width=\"24px\">\n",
              "    <path d=\"M0 0h24v24H0V0z\" fill=\"none\"/>\n",
              "    <path d=\"M18.56 5.44l.94 2.06.94-2.06 2.06-.94-2.06-.94-.94-2.06-.94 2.06-2.06.94zm-11 1L8.5 8.5l.94-2.06 2.06-.94-2.06-.94L8.5 2.5l-.94 2.06-2.06.94zm10 10l.94 2.06.94-2.06 2.06-.94-2.06-.94-.94-2.06-.94 2.06-2.06.94z\"/><path d=\"M17.41 7.96l-1.37-1.37c-.4-.4-.92-.59-1.43-.59-.52 0-1.04.2-1.43.59L10.3 9.45l-7.72 7.72c-.78.78-.78 2.05 0 2.83L4 21.41c.39.39.9.59 1.41.59.51 0 1.02-.2 1.41-.59l7.78-7.78 2.81-2.81c.8-.78.8-2.07 0-2.86zM5.41 20L4 18.59l7.72-7.72 1.47 1.35L5.41 20z\"/>\n",
              "  </svg>\n",
              "      </button>\n",
              "      \n",
              "  <style>\n",
              "    .colab-df-container {\n",
              "      display:flex;\n",
              "      flex-wrap:wrap;\n",
              "      gap: 12px;\n",
              "    }\n",
              "\n",
              "    .colab-df-convert {\n",
              "      background-color: #E8F0FE;\n",
              "      border: none;\n",
              "      border-radius: 50%;\n",
              "      cursor: pointer;\n",
              "      display: none;\n",
              "      fill: #1967D2;\n",
              "      height: 32px;\n",
              "      padding: 0 0 0 0;\n",
              "      width: 32px;\n",
              "    }\n",
              "\n",
              "    .colab-df-convert:hover {\n",
              "      background-color: #E2EBFA;\n",
              "      box-shadow: 0px 1px 2px rgba(60, 64, 67, 0.3), 0px 1px 3px 1px rgba(60, 64, 67, 0.15);\n",
              "      fill: #174EA6;\n",
              "    }\n",
              "\n",
              "    [theme=dark] .colab-df-convert {\n",
              "      background-color: #3B4455;\n",
              "      fill: #D2E3FC;\n",
              "    }\n",
              "\n",
              "    [theme=dark] .colab-df-convert:hover {\n",
              "      background-color: #434B5C;\n",
              "      box-shadow: 0px 1px 3px 1px rgba(0, 0, 0, 0.15);\n",
              "      filter: drop-shadow(0px 1px 2px rgba(0, 0, 0, 0.3));\n",
              "      fill: #FFFFFF;\n",
              "    }\n",
              "  </style>\n",
              "\n",
              "      <script>\n",
              "        const buttonEl =\n",
              "          document.querySelector('#df-6fcf8c65-3f85-4a3b-9b34-879cd014c75f button.colab-df-convert');\n",
              "        buttonEl.style.display =\n",
              "          google.colab.kernel.accessAllowed ? 'block' : 'none';\n",
              "\n",
              "        async function convertToInteractive(key) {\n",
              "          const element = document.querySelector('#df-6fcf8c65-3f85-4a3b-9b34-879cd014c75f');\n",
              "          const dataTable =\n",
              "            await google.colab.kernel.invokeFunction('convertToInteractive',\n",
              "                                                     [key], {});\n",
              "          if (!dataTable) return;\n",
              "\n",
              "          const docLinkHtml = 'Like what you see? Visit the ' +\n",
              "            '<a target=\"_blank\" href=https://colab.research.google.com/notebooks/data_table.ipynb>data table notebook</a>'\n",
              "            + ' to learn more about interactive tables.';\n",
              "          element.innerHTML = '';\n",
              "          dataTable['output_type'] = 'display_data';\n",
              "          await google.colab.output.renderOutput(dataTable, element);\n",
              "          const docLink = document.createElement('div');\n",
              "          docLink.innerHTML = docLinkHtml;\n",
              "          element.appendChild(docLink);\n",
              "        }\n",
              "      </script>\n",
              "    </div>\n",
              "  </div>\n",
              "  "
            ],
            "text/plain": [
              "               asset.name                         collection_slug  \\\n",
              "86               AKCredit                       a0k1verse-credits   \n",
              "87                    ALI                         alinft-official   \n",
              "88           ALPACADABRAD                         alpacadabraz-3d   \n",
              "89               AMBIVERT                         carmeljenkinart   \n",
              "90              AOArtBall                             ao-art-ball   \n",
              "..                    ...                                     ...   \n",
              "280          CameraPerson                       camera-person-nft   \n",
              "281           CandyHunter                           candy-hunters   \n",
              "282            CannonPlay                     snapshots-of-sydney   \n",
              "283  CapybarasCountryClub                    capybarascountryclub   \n",
              "284       CarbonFiberBike  thewalkingdeadofficialdarylmotorcycles   \n",
              "\n",
              "     total_price  quantity  asset.num_sales  payment_token.usd_price  \\\n",
              "86       1.68900         7           8800.0                  7901.61   \n",
              "87       0.75900         4             20.0                  7901.08   \n",
              "88       0.28700         1              1.0                  1975.27   \n",
              "89       0.10000         1              1.0                  1975.27   \n",
              "90       2.64359        13             21.0                 25678.51   \n",
              "..           ...       ...              ...                      ...   \n",
              "280      0.07800         2              2.0                  3950.54   \n",
              "281      0.39700         6             13.0                 11851.62   \n",
              "282      0.10000         1              3.0                  1975.27   \n",
              "283      0.21780         4              6.0                  7901.08   \n",
              "284      0.03400         1              1.0                  1975.27   \n",
              "\n",
              "     total_price_usd  \n",
              "86       3336.289330  \n",
              "87       1499.229930  \n",
              "88        566.902490  \n",
              "89        197.527000  \n",
              "90       5221.804019  \n",
              "..               ...  \n",
              "280       154.071060  \n",
              "281       784.182190  \n",
              "282       197.527000  \n",
              "283       430.213806  \n",
              "284        67.159180  \n",
              "\n",
              "[199 rows x 7 columns]"
            ]
          },
          "execution_count": 41,
          "metadata": {},
          "output_type": "execute_result"
        }
      ],
      "source": [
        "assets[86:285]"
      ]
    },
    {
      "cell_type": "code",
      "execution_count": null,
      "metadata": {
        "id": "vrZyVZ5UXS_d"
      },
      "outputs": [],
      "source": [
        "almost_final_df = pd.merge(assets[86:285], tweet_df, left_on=\"asset.name\", right_on=\"AssetName\").drop('AssetName', axis = 1)"
      ]
    },
    {
      "cell_type": "code",
      "execution_count": null,
      "metadata": {
        "id": "x6OxEdhcae5q"
      },
      "outputs": [],
      "source": [
        "almost_final_df.to_csv('/content/drive/MyDrive/MADSThesis_Alejandro/almost_final_df.csv',index=False)"
      ]
    },
    {
      "cell_type": "code",
      "execution_count": null,
      "metadata": {
        "colab": {
          "base_uri": "https://localhost:8080/",
          "height": 834
        },
        "id": "nHYldaEsrA60",
        "outputId": "e98ca2b2-6e11-4d7c-e268-11be6d8ce4f3"
      },
      "outputs": [
        {
          "data": {
            "text/html": [
              "\n",
              "  <div id=\"df-828c2b27-8a25-4ee5-91b0-20734b54aad6\">\n",
              "    <div class=\"colab-df-container\">\n",
              "      <div>\n",
              "<style scoped>\n",
              "    .dataframe tbody tr th:only-of-type {\n",
              "        vertical-align: middle;\n",
              "    }\n",
              "\n",
              "    .dataframe tbody tr th {\n",
              "        vertical-align: top;\n",
              "    }\n",
              "\n",
              "    .dataframe thead th {\n",
              "        text-align: right;\n",
              "    }\n",
              "</style>\n",
              "<table border=\"1\" class=\"dataframe\">\n",
              "  <thead>\n",
              "    <tr style=\"text-align: right;\">\n",
              "      <th></th>\n",
              "      <th>asset.name</th>\n",
              "      <th>collection_slug</th>\n",
              "      <th>total_price</th>\n",
              "      <th>quantity</th>\n",
              "      <th>asset.num_sales</th>\n",
              "      <th>payment_token.usd_price</th>\n",
              "      <th>total_price_usd</th>\n",
              "      <th>Datetime</th>\n",
              "      <th>Tweet Id</th>\n",
              "      <th>Text</th>\n",
              "      <th>Username</th>\n",
              "      <th>Negative</th>\n",
              "      <th>Neutral</th>\n",
              "      <th>Positive</th>\n",
              "    </tr>\n",
              "  </thead>\n",
              "  <tbody>\n",
              "    <tr>\n",
              "      <th>0</th>\n",
              "      <td>ALI</td>\n",
              "      <td>alinft-official</td>\n",
              "      <td>0.7590</td>\n",
              "      <td>4</td>\n",
              "      <td>20.0</td>\n",
              "      <td>7901.08</td>\n",
              "      <td>1499.229930</td>\n",
              "      <td>2022-05-31 19:10:38+00:00</td>\n",
              "      <td>1531714790296588289</td>\n",
              "      <td>BOOM!!!! I got me a SICK ALI @MuhammadAli #ali...</td>\n",
              "      <td>FrankKnuckles3</td>\n",
              "      <td>0.000217</td>\n",
              "      <td>0.014742</td>\n",
              "      <td>0.985041</td>\n",
              "    </tr>\n",
              "    <tr>\n",
              "      <th>1</th>\n",
              "      <td>ALI</td>\n",
              "      <td>alinft-official</td>\n",
              "      <td>0.7590</td>\n",
              "      <td>4</td>\n",
              "      <td>20.0</td>\n",
              "      <td>7901.08</td>\n",
              "      <td>1499.229930</td>\n",
              "      <td>2022-05-28 14:11:55+00:00</td>\n",
              "      <td>1530552452646174721</td>\n",
              "      <td>.0029 etc for this (8) 1/1s collection this we...</td>\n",
              "      <td>famousmoonking</td>\n",
              "      <td>0.000259</td>\n",
              "      <td>0.998367</td>\n",
              "      <td>0.001374</td>\n",
              "    </tr>\n",
              "    <tr>\n",
              "      <th>2</th>\n",
              "      <td>ALI</td>\n",
              "      <td>alinft-official</td>\n",
              "      <td>0.7590</td>\n",
              "      <td>4</td>\n",
              "      <td>20.0</td>\n",
              "      <td>7901.08</td>\n",
              "      <td>1499.229930</td>\n",
              "      <td>2022-05-26 23:03:16+00:00</td>\n",
              "      <td>1529961393222344704</td>\n",
              "      <td>24 hour pre #MemorialDaySale!!!\\n #crypto shri...</td>\n",
              "      <td>famousmoonking</td>\n",
              "      <td>0.000584</td>\n",
              "      <td>0.930651</td>\n",
              "      <td>0.068765</td>\n",
              "    </tr>\n",
              "    <tr>\n",
              "      <th>3</th>\n",
              "      <td>ALI</td>\n",
              "      <td>alinft-official</td>\n",
              "      <td>0.7590</td>\n",
              "      <td>4</td>\n",
              "      <td>20.0</td>\n",
              "      <td>7901.08</td>\n",
              "      <td>1499.229930</td>\n",
              "      <td>2022-05-20 14:46:16+00:00</td>\n",
              "      <td>1527661994895020034</td>\n",
              "      <td>hi.\\n8 of these @ .01 each for the weekend.\\nI...</td>\n",
              "      <td>famousmoonking</td>\n",
              "      <td>0.000171</td>\n",
              "      <td>0.998158</td>\n",
              "      <td>0.001671</td>\n",
              "    </tr>\n",
              "    <tr>\n",
              "      <th>4</th>\n",
              "      <td>ALI</td>\n",
              "      <td>alinft-official</td>\n",
              "      <td>0.7590</td>\n",
              "      <td>4</td>\n",
              "      <td>20.0</td>\n",
              "      <td>7901.08</td>\n",
              "      <td>1499.229930</td>\n",
              "      <td>2022-05-10 03:46:15+00:00</td>\n",
              "      <td>1523872016410898432</td>\n",
              "      <td>Limited edition of 9 hand made 1/1 Ali post ca...</td>\n",
              "      <td>famousmoonking</td>\n",
              "      <td>0.000234</td>\n",
              "      <td>0.998247</td>\n",
              "      <td>0.001519</td>\n",
              "    </tr>\n",
              "    <tr>\n",
              "      <th>...</th>\n",
              "      <td>...</td>\n",
              "      <td>...</td>\n",
              "      <td>...</td>\n",
              "      <td>...</td>\n",
              "      <td>...</td>\n",
              "      <td>...</td>\n",
              "      <td>...</td>\n",
              "      <td>...</td>\n",
              "      <td>...</td>\n",
              "      <td>...</td>\n",
              "      <td>...</td>\n",
              "      <td>...</td>\n",
              "      <td>...</td>\n",
              "      <td>...</td>\n",
              "    </tr>\n",
              "    <tr>\n",
              "      <th>2137</th>\n",
              "      <td>CapybarasCountryClub</td>\n",
              "      <td>capybarascountryclub</td>\n",
              "      <td>0.2178</td>\n",
              "      <td>4</td>\n",
              "      <td>6.0</td>\n",
              "      <td>7901.08</td>\n",
              "      <td>430.213806</td>\n",
              "      <td>2022-02-27 21:56:10+00:00</td>\n",
              "      <td>1498054378342735875</td>\n",
              "      <td>My most recent #fanart for #capybarascountrycl...</td>\n",
              "      <td>hxrnyNFT</td>\n",
              "      <td>0.000148</td>\n",
              "      <td>0.997976</td>\n",
              "      <td>0.001876</td>\n",
              "    </tr>\n",
              "    <tr>\n",
              "      <th>2138</th>\n",
              "      <td>CapybarasCountryClub</td>\n",
              "      <td>capybarascountryclub</td>\n",
              "      <td>0.2178</td>\n",
              "      <td>4</td>\n",
              "      <td>6.0</td>\n",
              "      <td>7901.08</td>\n",
              "      <td>430.213806</td>\n",
              "      <td>2022-01-07 22:24:59+00:00</td>\n",
              "      <td>1479579847991205894</td>\n",
              "      <td>Do you like what you have seen so far? 👀🔥\\n\\n#...</td>\n",
              "      <td>CapybarasCC</td>\n",
              "      <td>0.000165</td>\n",
              "      <td>0.001351</td>\n",
              "      <td>0.998484</td>\n",
              "    </tr>\n",
              "    <tr>\n",
              "      <th>2139</th>\n",
              "      <td>CapybarasCountryClub</td>\n",
              "      <td>capybarascountryclub</td>\n",
              "      <td>0.2178</td>\n",
              "      <td>4</td>\n",
              "      <td>6.0</td>\n",
              "      <td>7901.08</td>\n",
              "      <td>430.213806</td>\n",
              "      <td>2022-01-07 11:13:52+00:00</td>\n",
              "      <td>1479410953947164674</td>\n",
              "      <td>I love to see our community growing organicall...</td>\n",
              "      <td>CapybarasCC</td>\n",
              "      <td>0.000128</td>\n",
              "      <td>0.001793</td>\n",
              "      <td>0.998079</td>\n",
              "    </tr>\n",
              "    <tr>\n",
              "      <th>2140</th>\n",
              "      <td>CapybarasCountryClub</td>\n",
              "      <td>capybarascountryclub</td>\n",
              "      <td>0.2178</td>\n",
              "      <td>4</td>\n",
              "      <td>6.0</td>\n",
              "      <td>7901.08</td>\n",
              "      <td>430.213806</td>\n",
              "      <td>2022-01-06 08:14:47+00:00</td>\n",
              "      <td>1479003498104725507</td>\n",
              "      <td>GM !!! \\n\\nNew day, new banner ! \\n\\nOG roles ...</td>\n",
              "      <td>CapybarasCC</td>\n",
              "      <td>0.000188</td>\n",
              "      <td>0.996583</td>\n",
              "      <td>0.003230</td>\n",
              "    </tr>\n",
              "    <tr>\n",
              "      <th>2141</th>\n",
              "      <td>CapybarasCountryClub</td>\n",
              "      <td>capybarascountryclub</td>\n",
              "      <td>0.2178</td>\n",
              "      <td>4</td>\n",
              "      <td>6.0</td>\n",
              "      <td>7901.08</td>\n",
              "      <td>430.213806</td>\n",
              "      <td>2022-01-05 18:28:46+00:00</td>\n",
              "      <td>1478795624921378822</td>\n",
              "      <td>Come to our Discord server and say \"Hi👋\" to cl...</td>\n",
              "      <td>CapybarasCC</td>\n",
              "      <td>0.000796</td>\n",
              "      <td>0.120031</td>\n",
              "      <td>0.879174</td>\n",
              "    </tr>\n",
              "  </tbody>\n",
              "</table>\n",
              "<p>2142 rows × 14 columns</p>\n",
              "</div>\n",
              "      <button class=\"colab-df-convert\" onclick=\"convertToInteractive('df-828c2b27-8a25-4ee5-91b0-20734b54aad6')\"\n",
              "              title=\"Convert this dataframe to an interactive table.\"\n",
              "              style=\"display:none;\">\n",
              "        \n",
              "  <svg xmlns=\"http://www.w3.org/2000/svg\" height=\"24px\"viewBox=\"0 0 24 24\"\n",
              "       width=\"24px\">\n",
              "    <path d=\"M0 0h24v24H0V0z\" fill=\"none\"/>\n",
              "    <path d=\"M18.56 5.44l.94 2.06.94-2.06 2.06-.94-2.06-.94-.94-2.06-.94 2.06-2.06.94zm-11 1L8.5 8.5l.94-2.06 2.06-.94-2.06-.94L8.5 2.5l-.94 2.06-2.06.94zm10 10l.94 2.06.94-2.06 2.06-.94-2.06-.94-.94-2.06-.94 2.06-2.06.94z\"/><path d=\"M17.41 7.96l-1.37-1.37c-.4-.4-.92-.59-1.43-.59-.52 0-1.04.2-1.43.59L10.3 9.45l-7.72 7.72c-.78.78-.78 2.05 0 2.83L4 21.41c.39.39.9.59 1.41.59.51 0 1.02-.2 1.41-.59l7.78-7.78 2.81-2.81c.8-.78.8-2.07 0-2.86zM5.41 20L4 18.59l7.72-7.72 1.47 1.35L5.41 20z\"/>\n",
              "  </svg>\n",
              "      </button>\n",
              "      \n",
              "  <style>\n",
              "    .colab-df-container {\n",
              "      display:flex;\n",
              "      flex-wrap:wrap;\n",
              "      gap: 12px;\n",
              "    }\n",
              "\n",
              "    .colab-df-convert {\n",
              "      background-color: #E8F0FE;\n",
              "      border: none;\n",
              "      border-radius: 50%;\n",
              "      cursor: pointer;\n",
              "      display: none;\n",
              "      fill: #1967D2;\n",
              "      height: 32px;\n",
              "      padding: 0 0 0 0;\n",
              "      width: 32px;\n",
              "    }\n",
              "\n",
              "    .colab-df-convert:hover {\n",
              "      background-color: #E2EBFA;\n",
              "      box-shadow: 0px 1px 2px rgba(60, 64, 67, 0.3), 0px 1px 3px 1px rgba(60, 64, 67, 0.15);\n",
              "      fill: #174EA6;\n",
              "    }\n",
              "\n",
              "    [theme=dark] .colab-df-convert {\n",
              "      background-color: #3B4455;\n",
              "      fill: #D2E3FC;\n",
              "    }\n",
              "\n",
              "    [theme=dark] .colab-df-convert:hover {\n",
              "      background-color: #434B5C;\n",
              "      box-shadow: 0px 1px 3px 1px rgba(0, 0, 0, 0.15);\n",
              "      filter: drop-shadow(0px 1px 2px rgba(0, 0, 0, 0.3));\n",
              "      fill: #FFFFFF;\n",
              "    }\n",
              "  </style>\n",
              "\n",
              "      <script>\n",
              "        const buttonEl =\n",
              "          document.querySelector('#df-828c2b27-8a25-4ee5-91b0-20734b54aad6 button.colab-df-convert');\n",
              "        buttonEl.style.display =\n",
              "          google.colab.kernel.accessAllowed ? 'block' : 'none';\n",
              "\n",
              "        async function convertToInteractive(key) {\n",
              "          const element = document.querySelector('#df-828c2b27-8a25-4ee5-91b0-20734b54aad6');\n",
              "          const dataTable =\n",
              "            await google.colab.kernel.invokeFunction('convertToInteractive',\n",
              "                                                     [key], {});\n",
              "          if (!dataTable) return;\n",
              "\n",
              "          const docLinkHtml = 'Like what you see? Visit the ' +\n",
              "            '<a target=\"_blank\" href=https://colab.research.google.com/notebooks/data_table.ipynb>data table notebook</a>'\n",
              "            + ' to learn more about interactive tables.';\n",
              "          element.innerHTML = '';\n",
              "          dataTable['output_type'] = 'display_data';\n",
              "          await google.colab.output.renderOutput(dataTable, element);\n",
              "          const docLink = document.createElement('div');\n",
              "          docLink.innerHTML = docLinkHtml;\n",
              "          element.appendChild(docLink);\n",
              "        }\n",
              "      </script>\n",
              "    </div>\n",
              "  </div>\n",
              "  "
            ],
            "text/plain": [
              "                asset.name       collection_slug  total_price  quantity  \\\n",
              "0                      ALI       alinft-official       0.7590         4   \n",
              "1                      ALI       alinft-official       0.7590         4   \n",
              "2                      ALI       alinft-official       0.7590         4   \n",
              "3                      ALI       alinft-official       0.7590         4   \n",
              "4                      ALI       alinft-official       0.7590         4   \n",
              "...                    ...                   ...          ...       ...   \n",
              "2137  CapybarasCountryClub  capybarascountryclub       0.2178         4   \n",
              "2138  CapybarasCountryClub  capybarascountryclub       0.2178         4   \n",
              "2139  CapybarasCountryClub  capybarascountryclub       0.2178         4   \n",
              "2140  CapybarasCountryClub  capybarascountryclub       0.2178         4   \n",
              "2141  CapybarasCountryClub  capybarascountryclub       0.2178         4   \n",
              "\n",
              "      asset.num_sales  payment_token.usd_price  total_price_usd  \\\n",
              "0                20.0                  7901.08      1499.229930   \n",
              "1                20.0                  7901.08      1499.229930   \n",
              "2                20.0                  7901.08      1499.229930   \n",
              "3                20.0                  7901.08      1499.229930   \n",
              "4                20.0                  7901.08      1499.229930   \n",
              "...               ...                      ...              ...   \n",
              "2137              6.0                  7901.08       430.213806   \n",
              "2138              6.0                  7901.08       430.213806   \n",
              "2139              6.0                  7901.08       430.213806   \n",
              "2140              6.0                  7901.08       430.213806   \n",
              "2141              6.0                  7901.08       430.213806   \n",
              "\n",
              "                       Datetime             Tweet Id  \\\n",
              "0     2022-05-31 19:10:38+00:00  1531714790296588289   \n",
              "1     2022-05-28 14:11:55+00:00  1530552452646174721   \n",
              "2     2022-05-26 23:03:16+00:00  1529961393222344704   \n",
              "3     2022-05-20 14:46:16+00:00  1527661994895020034   \n",
              "4     2022-05-10 03:46:15+00:00  1523872016410898432   \n",
              "...                         ...                  ...   \n",
              "2137  2022-02-27 21:56:10+00:00  1498054378342735875   \n",
              "2138  2022-01-07 22:24:59+00:00  1479579847991205894   \n",
              "2139  2022-01-07 11:13:52+00:00  1479410953947164674   \n",
              "2140  2022-01-06 08:14:47+00:00  1479003498104725507   \n",
              "2141  2022-01-05 18:28:46+00:00  1478795624921378822   \n",
              "\n",
              "                                                   Text        Username  \\\n",
              "0     BOOM!!!! I got me a SICK ALI @MuhammadAli #ali...  FrankKnuckles3   \n",
              "1     .0029 etc for this (8) 1/1s collection this we...  famousmoonking   \n",
              "2     24 hour pre #MemorialDaySale!!!\\n #crypto shri...  famousmoonking   \n",
              "3     hi.\\n8 of these @ .01 each for the weekend.\\nI...  famousmoonking   \n",
              "4     Limited edition of 9 hand made 1/1 Ali post ca...  famousmoonking   \n",
              "...                                                 ...             ...   \n",
              "2137  My most recent #fanart for #capybarascountrycl...        hxrnyNFT   \n",
              "2138  Do you like what you have seen so far? 👀🔥\\n\\n#...     CapybarasCC   \n",
              "2139  I love to see our community growing organicall...     CapybarasCC   \n",
              "2140  GM !!! \\n\\nNew day, new banner ! \\n\\nOG roles ...     CapybarasCC   \n",
              "2141  Come to our Discord server and say \"Hi👋\" to cl...     CapybarasCC   \n",
              "\n",
              "      Negative   Neutral  Positive  \n",
              "0     0.000217  0.014742  0.985041  \n",
              "1     0.000259  0.998367  0.001374  \n",
              "2     0.000584  0.930651  0.068765  \n",
              "3     0.000171  0.998158  0.001671  \n",
              "4     0.000234  0.998247  0.001519  \n",
              "...        ...       ...       ...  \n",
              "2137  0.000148  0.997976  0.001876  \n",
              "2138  0.000165  0.001351  0.998484  \n",
              "2139  0.000128  0.001793  0.998079  \n",
              "2140  0.000188  0.996583  0.003230  \n",
              "2141  0.000796  0.120031  0.879174  \n",
              "\n",
              "[2142 rows x 14 columns]"
            ]
          },
          "execution_count": 28,
          "metadata": {},
          "output_type": "execute_result"
        }
      ],
      "source": [
        "almost_final_df = pd.read_csv('/content/drive/MyDrive/MADSThesis_Alejandro/almost_final_df.csv')\n",
        "almost_final_df"
      ]
    }
  ],
  "metadata": {
    "colab": {
      "provenance": []
    },
    "kernelspec": {
      "display_name": "Python 3 (ipykernel)",
      "language": "python",
      "name": "python3"
    },
    "language_info": {
      "codemirror_mode": {
        "name": "ipython",
        "version": 3
      },
      "file_extension": ".py",
      "mimetype": "text/x-python",
      "name": "python",
      "nbconvert_exporter": "python",
      "pygments_lexer": "ipython3",
      "version": "3.8.10"
    }
  },
  "nbformat": 4,
  "nbformat_minor": 0
}